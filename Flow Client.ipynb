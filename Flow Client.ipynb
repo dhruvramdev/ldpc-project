{
 "cells": [
  {
   "cell_type": "markdown",
   "metadata": {},
   "source": [
    "# Code For Grain Encrption Cipher - A Stream Cipher"
   ]
  },
  {
   "cell_type": "code",
   "execution_count": 1,
   "metadata": {},
   "outputs": [],
   "source": [
    "import numpy as np\n",
    "import binascii"
   ]
  },
  {
   "cell_type": "code",
   "execution_count": 2,
   "metadata": {},
   "outputs": [],
   "source": [
    "## Hepler functions for interconversion of bits and strings\n",
    "\n",
    "def text_to_bits(text, encoding='utf-8', errors='surrogatepass'):\n",
    "    bits = bin(int(binascii.hexlify(text.encode(encoding, errors)), 16))[2:]\n",
    "    return bits.zfill(8 * ((len(bits) + 7) // 8))\n",
    "\n",
    "def text_from_bits(bits, encoding='utf-8', errors='surrogatepass'):\n",
    "    n = int(bits, 2)\n",
    "    return int2bytes(n).decode(encoding, errors)\n",
    "\n",
    "def int2bytes(i):\n",
    "    hex_string = '%x' % i\n",
    "    n = len(hex_string)\n",
    "    return binascii.unhexlify(hex_string.zfill(n + (n & 1)))\n",
    "\n",
    "def string2bits(s=''):\n",
    "    return [bin(ord(x))[2:].zfill(8) for x in s]\n",
    "\n",
    "def bits2string(b=None):\n",
    "    return ''.join([chr(int(x, 2)) for x in b])"
   ]
  },
  {
   "cell_type": "code",
   "execution_count": 3,
   "metadata": {},
   "outputs": [],
   "source": [
    "## Main building blocks of Grain Cipher, namely a Linear Feedback Shift Register (LFSR)\n",
    "## and a Non-linear Feedback Shift Register (NFSR)\n",
    "\n",
    "lfsr = np.zeros(80,dtype=bool)\n",
    "nfsr = np.zeros(80,dtype=bool)\n",
    "\n",
    "## Initialise LFSR and NFSR using IV and Secret Key\n",
    "## First load the NFSR with the key bits, bi = ki, 0 ≤ i ≤ 79,\n",
    "## then load the first 64 bits of the LFSR with the IV, si = IVi, 0 ≤ i ≤ 63.\n",
    "## The remaining bits of the LFSR are filled with ones, si = 1, 64 ≤ i ≤ 79.\n",
    "## Because of this the LFSR cannot be initialized to the all zero state.\n",
    "\n",
    "def init(iv,key):\n",
    "    iv_bin = string2bits(iv)\n",
    "    iv_bin = ''.join(iv_bin)\n",
    "    lfsr[:64] = [bool(int(iv_bin[ix])) for ix in range(len(iv_bin))]\n",
    "    lfsr[64:] = 1\n",
    "    key_bin = string2bits(key)\n",
    "    key_bin = ''.join(key_bin)\n",
    "    nfsr[:] = [bool(int(key_bin[ix])) for ix in range(len(key_bin))]\n",
    "\n",
    "    \n",
    "## The cipher is clocked 160 times without producing any running key\n",
    "## The output of the filter function, h(x), is fed back and xored with the input, both to the LFSR and to the NFSR\n",
    "\n",
    "def clock():\n",
    "    hx=0\n",
    "    fx=0\n",
    "    gx=0\n",
    "    global lfsr\n",
    "    global nfsr\n",
    "    for ix in range(160):\n",
    "        fx = lfsr[62] ^ lfsr[51] ^ lfsr[38] ^ lfsr[23] ^ lfsr[13] ^ lfsr[0] ^ hx\n",
    "        gx = hx ^ nfsr[0] ^ nfsr[63] ^ nfsr[60] ^ nfsr[52] ^ nfsr[45] ^ nfsr[37] ^ nfsr[33] ^ nfsr[28] ^ nfsr[21] ^ nfsr[15] ^ nfsr[19] ^ nfsr[0] ^ nfsr[63] & nfsr[60] ^ nfsr[37] & nfsr[33] ^ nfsr[15] & nfsr[9] ^ nfsr[60] & nfsr[52] & nfsr[45] ^ nfsr[33] & nfsr[28] & nfsr[21] ^ nfsr[63] & nfsr[45] & nfsr[28] & nfsr[9] ^ nfsr[60] & nfsr[52] & nfsr[37] & nfsr[33] ^ nfsr[63] & nfsr[60] & nfsr[21] & nfsr[15] ^ nfsr[63] & nfsr[60] & nfsr[52] & nfsr[45] & nfsr[37] ^ nfsr[33] & nfsr[28] & nfsr[21] & nfsr[15] & nfsr[9] ^ nfsr[52] & nfsr[45] & nfsr[37] & nfsr[33] & nfsr[28] & nfsr[21]\n",
    "        x0 = lfsr[0]\n",
    "        x1 = lfsr[25]\n",
    "        x2 = lfsr[46]\n",
    "        x3 = lfsr[64]\n",
    "        x4 = nfsr[63]\n",
    "        hx = x1 ^ x4 ^ x0 & x3 ^ x2 & x3 ^ x3 & x3 ^ x0 & x1 & x2 ^ x0 & x2 & x3 ^ x0 & x2 & x4 ^ x1 & x2 & x4 ^ x2 & x3 & x4\n",
    "        lfsr[:-1] = lfsr[1:]\n",
    "        lfsr[-1] = fx\n",
    "        nfsr[:-1] = nfsr[1:]\n",
    "        nfsr[-1] = gx    \n",
    "        \n",
    "        \n",
    "        \n",
    "## Return a stream generator which implements the filter function\n",
    "\n",
    "def gen_key_stream():\n",
    "    hx = 0\n",
    "    while True:\n",
    "        fx = lfsr[62] ^ lfsr[51] ^ lfsr[38] ^ lfsr[23] ^ lfsr[13] ^ lfsr[0]\n",
    "        gx = nfsr[0] ^ nfsr[63] ^ nfsr[60] ^ nfsr[52] ^ nfsr[45] ^ nfsr[37] ^ nfsr[33] ^ nfsr[28] ^ nfsr[21] ^ nfsr[15] ^ nfsr[19] ^ nfsr[0] ^ nfsr[63] & nfsr[60] ^ nfsr[37] & nfsr[33] ^ nfsr[15] & nfsr[9] ^ nfsr[60] & nfsr[52] & nfsr[45] ^ nfsr[33] & nfsr[28] & nfsr[21] ^ nfsr[63] & nfsr[45] & nfsr[28] & nfsr[9] ^ nfsr[60] & nfsr[52] & nfsr[37] & nfsr[33] ^ nfsr[63] & nfsr[60] & nfsr[21] & nfsr[15] ^ nfsr[63] & nfsr[60] & nfsr[52] & nfsr[45] & nfsr[37] ^ nfsr[33] & nfsr[28] & nfsr[21] & nfsr[15] & nfsr[9] ^ nfsr[52] & nfsr[45] & nfsr[37] & nfsr[33] & nfsr[28] & nfsr[21]\n",
    "        x0 = lfsr[0]\n",
    "        x1 = lfsr[25]\n",
    "        x2 = lfsr[46]\n",
    "        x3 = lfsr[64]\n",
    "        x4 = nfsr[63]\n",
    "        hx = x1 ^ x4 ^ x0 & x3 ^ x2 & x3 ^ x3 & x3 ^ x0 & x1 & x2 ^ x0 & x2 & x3 ^ x0 & x2 & x4 ^ x1 & x2 & x4 ^ x2 & x3 & x4\n",
    "        lfsr[:-1] = lfsr[1:]\n",
    "        lfsr[-1] = fx\n",
    "        nfsr[:-1] = nfsr[1:]\n",
    "        nfsr[-1] = gx\n",
    "        yield hx\n",
    "        \n",
    "        \n",
    "        \n",
    "def encrypt(iv,key,plain, resume=False):\n",
    "    \n",
    "    if not resume :\n",
    "        init(iv,key)\n",
    "        clock()\n",
    "    \n",
    "    \n",
    "    plain = text_to_bits(plain)\n",
    "    stream = gen_key_stream()\n",
    "    \n",
    "    def printNext(stream) :\n",
    "        a = next(stream)\n",
    "        #print(a)\n",
    "        return a\n",
    "    \n",
    "    cipher = [str(int(bool(int(plain[ix]))^printNext(stream))) for ix in range(len(plain))]\n",
    "    cipher = ''.join(cipher)\n",
    "    return cipher\n",
    "\n",
    "\n",
    "\n",
    "def decrypt(iv,key,cipher):\n",
    "    init(iv,key)\n",
    "    clock()\n",
    "    stream = gen_key_stream()\n",
    "    plain = [str(int(bool(int(cipher[ix]))^next(stream))) for ix in range(len(cipher))]\n",
    "    plain = ''.join(plain)\n",
    "    plain = text_from_bits(plain)\n",
    "    return plain\n",
    "\n"
   ]
  },
  {
   "cell_type": "markdown",
   "metadata": {},
   "source": [
    "# Code for Compression"
   ]
  },
  {
   "cell_type": "code",
   "execution_count": 4,
   "metadata": {},
   "outputs": [],
   "source": [
    "def decimalToBinary(num , places):\n",
    "    return ('{0:0' +  str(places) + 'b}').format(num)\n",
    "\n",
    "\n",
    "def binaryToDecimal(binary):\n",
    "    return int(binary, 2)\n",
    "        \n",
    "def xorBinary(binary,key = \"00000000\"):\n",
    "    i=0\n",
    "    encBin = \"\"\n",
    "    while(i<8):\n",
    "        if(binary[i] == '0' and key[i] == '0') or (binary[i] == '1' and key[i] == '1'):\n",
    "            encBin+=\"0\"\n",
    "        else:\n",
    "            encBin+=\"1\"\n",
    "        i+=1\n",
    "        \n",
    "#     print(binary , key , encBin)    \n",
    "    return encBin\n",
    "    \n",
    "def compressBinary(binary):\n",
    "    i=0\n",
    "    compressBin = \"\"\n",
    "    while(i<8):\n",
    "        if(i%2 == 0):\n",
    "            if((binary[i] == '0' and binary[i+1] == '0') or (binary[i] == '1' and binary[i+1] == '1')):\n",
    "                compressBin+=\"0\"\n",
    "            else:\n",
    "                compressBin+=\"1\"\n",
    "        i+=1\n",
    "        \n",
    "    return compressBin\n",
    "\n",
    "def to_twoscomplement(bits, value):\n",
    "    if value < 0:\n",
    "        value = ( 1<<bits ) + value\n",
    "    formatstring = '{:0%ib}' % bits\n",
    "    return formatstring.format(value)\n"
   ]
  },
  {
   "cell_type": "markdown",
   "metadata": {},
   "source": [
    "# Code for Importing Data"
   ]
  },
  {
   "cell_type": "code",
   "execution_count": 5,
   "metadata": {},
   "outputs": [],
   "source": [
    "import pandas as pd\n",
    "article_read = pd.read_csv('dataset.csv',delimiter = ',')"
   ]
  },
  {
   "cell_type": "code",
   "execution_count": 6,
   "metadata": {},
   "outputs": [],
   "source": [
    "# new_dataset = pd.Series(list(article_read['Temp.'].sample(101 , random_state=10)))\n",
    "new_dataset = article_read['Temp.']\n",
    "\n",
    "# new_dataset"
   ]
  },
  {
   "cell_type": "code",
   "execution_count": null,
   "metadata": {},
   "outputs": [],
   "source": []
  },
  {
   "cell_type": "markdown",
   "metadata": {},
   "source": [
    "# Code For Delta Coding"
   ]
  },
  {
   "cell_type": "code",
   "execution_count": 7,
   "metadata": {},
   "outputs": [
    {
     "data": {
      "text/plain": [
       "count    928991.000000\n",
       "mean         26.777991\n",
       "std           0.945279\n",
       "min          24.000000\n",
       "25%          26.000000\n",
       "50%          27.000000\n",
       "75%          27.000000\n",
       "max          30.000000\n",
       "Name: Temp., dtype: float64"
      ]
     },
     "execution_count": 7,
     "metadata": {},
     "output_type": "execute_result"
    }
   ],
   "source": [
    "int_dataset = new_dataset.astype('int64')\n",
    "int_dataset.describe()"
   ]
  },
  {
   "cell_type": "code",
   "execution_count": 8,
   "metadata": {},
   "outputs": [],
   "source": [
    "# int_dataset"
   ]
  },
  {
   "cell_type": "code",
   "execution_count": 9,
   "metadata": {},
   "outputs": [],
   "source": [
    "diff_dataset = [0]\n",
    "for i in range(1 , len(int_dataset)) :\n",
    "        diff_dataset.append(int_dataset[i] - int_dataset[i-1])"
   ]
  },
  {
   "cell_type": "code",
   "execution_count": 10,
   "metadata": {},
   "outputs": [],
   "source": [
    "diff_dataset = pd.Series(diff_dataset)"
   ]
  },
  {
   "cell_type": "code",
   "execution_count": 11,
   "metadata": {},
   "outputs": [],
   "source": [
    "# diff_dataset"
   ]
  },
  {
   "cell_type": "code",
   "execution_count": 12,
   "metadata": {},
   "outputs": [],
   "source": [
    "import seaborn as sns\n",
    "%matplotlib inline\n"
   ]
  },
  {
   "cell_type": "code",
   "execution_count": 13,
   "metadata": {},
   "outputs": [
    {
     "data": {
      "text/plain": [
       "<matplotlib.axes._subplots.AxesSubplot at 0x1a378b1c898>"
      ]
     },
     "execution_count": 13,
     "metadata": {},
     "output_type": "execute_result"
    },
    {
     "data": {
      "image/png": "[encoded data removed]",
      "text/plain": [
       "<Figure size 432x288 with 1 Axes>"
      ]
     },
     "metadata": {
      "needs_background": "light"
     },
     "output_type": "display_data"
    }
   ],
   "source": [
    "sns.countplot(diff_dataset)"
   ]
  },
  {
   "cell_type": "code",
   "execution_count": 55,
   "metadata": {},
   "outputs": [
    {
     "data": {
      "text/plain": [
       "count    928991.000000\n",
       "mean          0.000001\n",
       "std           0.037278\n",
       "min          -4.000000\n",
       "25%           0.000000\n",
       "50%           0.000000\n",
       "75%           0.000000\n",
       "max           3.000000\n",
       "dtype: float64"
      ]
     },
     "execution_count": 55,
     "metadata": {},
     "output_type": "execute_result"
    }
   ],
   "source": [
    "diff_dataset.describe()"
   ]
  },
  {
   "cell_type": "markdown",
   "metadata": {},
   "source": [
    "# Main Logic"
   ]
  },
  {
   "cell_type": "code",
   "execution_count": 13,
   "metadata": {},
   "outputs": [],
   "source": [
    "key = \"0000000000\"\n",
    "iv = \"00000000\""
   ]
  },
  {
   "cell_type": "code",
   "execution_count": null,
   "metadata": {},
   "outputs": [],
   "source": []
  },
  {
   "cell_type": "code",
   "execution_count": null,
   "metadata": {},
   "outputs": [],
   "source": []
  },
  {
   "cell_type": "code",
   "execution_count": 14,
   "metadata": {},
   "outputs": [],
   "source": [
    "import time"
   ]
  },
  {
   "cell_type": "code",
   "execution_count": 75,
   "metadata": {},
   "outputs": [],
   "source": [
    "import socket\n",
    "# host = 'localhost'  # as both code is running on same pc\n",
    "\n",
    "host = \"192.168.43.136\"\n",
    "port = 5000  # socket server port number\n",
    "\n",
    "message_array = []"
   ]
  },
  {
   "cell_type": "code",
   "execution_count": 76,
   "metadata": {},
   "outputs": [],
   "source": [
    "def sendMessage(dataByte , socket):\n",
    "    socket.send(dataByte)\n",
    "    # print(\"Sent Byte\")"
   ]
  },
  {
   "cell_type": "code",
   "execution_count": 77,
   "metadata": {},
   "outputs": [],
   "source": [
    "def storeMessage(dataByte):\n",
    "    message_array.append(dataByte)"
   ]
  },
  {
   "cell_type": "code",
   "execution_count": null,
   "metadata": {},
   "outputs": [],
   "source": []
  },
  {
   "cell_type": "code",
   "execution_count": 81,
   "metadata": {},
   "outputs": [],
   "source": [
    "def client_program(obv_factor):\n",
    "    client_socket = socket.socket(socket.AF_INET, socket.SOCK_STREAM)  # instantiate\n",
    "    client_socket.connect((host, port))  # connect to the server\n",
    "\n",
    "    count = 1 \n",
    "    handShake = to_twoscomplement(8 ,int_dataset[0])\n",
    "    final = binaryToDecimal(handShake).to_bytes(1, byteorder=\"little\")\n",
    "    storeMessage(final)\n",
    "\n",
    "    for i in range(1, int(len(diff_dataset) * obv_factor) , 2):\n",
    "        combined = to_twoscomplement(4 , diff_dataset[i]) + to_twoscomplement(4 , diff_dataset[i+1])\n",
    "        final = binaryToDecimal(combined).to_bytes(1, byteorder=\"little\")\n",
    "        storeMessage(final)\n",
    "        count += 1\n",
    "        #     time.sleep(1)\n",
    "\n",
    "    for i in message_array :\n",
    "        sendMessage(i , client_socket)\n",
    "\n",
    "\n",
    "    print(\"Packets Transferred : \" , count)    \n",
    "    client_socket.send(''.encode())\n",
    "    client_socket.close()  # close the connection\n",
    "    "
   ]
  },
  {
   "cell_type": "code",
   "execution_count": 79,
   "metadata": {},
   "outputs": [
    {
     "name": "stdout",
     "output_type": "stream",
     "text": [
      "Packets Transferred :  464496\n"
     ]
    }
   ],
   "source": [
    "client_program()"
   ]
  },
  {
   "cell_type": "code",
   "execution_count": 89,
   "metadata": {},
   "outputs": [
    {
     "name": "stdout",
     "output_type": "stream",
     "text": [
      "Packets Transferred :  464496\n",
      "Packets Transferred :  464496\n",
      "Packets Transferred :  464496\n",
      "Packets Transferred :  464496\n",
      "Packets Transferred :  464496\n",
      "Packets Transferred :  464496\n",
      "Packets Transferred :  464496\n",
      "Packets Transferred :  464496\n",
      "Packets Transferred :  464496\n",
      "Packets Transferred :  464496\n",
      "Packets Transferred :  464496\n",
      "Packets Transferred :  464496\n",
      "Packets Transferred :  464496\n",
      "Packets Transferred :  464496\n",
      "Packets Transferred :  464496\n",
      "Packets Transferred :  464496\n",
      "Packets Transferred :  464496\n",
      "Packets Transferred :  464496\n",
      "Packets Transferred :  464496\n",
      "Packets Transferred :  464496\n",
      "Packets Transferred :  464496\n",
      "Packets Transferred :  464496\n",
      "Packets Transferred :  464496\n",
      "Packets Transferred :  464496\n",
      "Packets Transferred :  464496\n",
      "Packets Transferred :  232248\n",
      "Packets Transferred :  232248\n",
      "Packets Transferred :  232248\n",
      "Packets Transferred :  232248\n",
      "Packets Transferred :  232248\n",
      "Packets Transferred :  232248\n",
      "Packets Transferred :  232248\n",
      "Packets Transferred :  232248\n",
      "Packets Transferred :  232248\n",
      "Packets Transferred :  232248\n",
      "Packets Transferred :  232248\n",
      "Packets Transferred :  232248\n",
      "Packets Transferred :  232248\n",
      "Packets Transferred :  232248\n",
      "Packets Transferred :  232248\n",
      "Packets Transferred :  232248\n",
      "Packets Transferred :  232248\n",
      "Packets Transferred :  232248\n",
      "Packets Transferred :  232248\n",
      "Packets Transferred :  232248\n",
      "Packets Transferred :  232248\n",
      "Packets Transferred :  232248\n",
      "Packets Transferred :  232248\n",
      "Packets Transferred :  232248\n",
      "Packets Transferred :  232248\n",
      "Packets Transferred :  116124\n",
      "Packets Transferred :  116124\n",
      "Packets Transferred :  116124\n",
      "Packets Transferred :  116124\n",
      "Packets Transferred :  116124\n",
      "Packets Transferred :  116124\n",
      "Packets Transferred :  116124\n",
      "Packets Transferred :  116124\n",
      "Packets Transferred :  116124\n",
      "Packets Transferred :  116124\n",
      "Packets Transferred :  116124\n",
      "Packets Transferred :  116124\n",
      "Packets Transferred :  116124\n",
      "Packets Transferred :  116124\n",
      "Packets Transferred :  116124\n",
      "Packets Transferred :  116124\n",
      "Packets Transferred :  116124\n",
      "Packets Transferred :  116124\n",
      "Packets Transferred :  116124\n",
      "Packets Transferred :  116124\n",
      "Packets Transferred :  116124\n",
      "Packets Transferred :  116124\n",
      "Packets Transferred :  116124\n",
      "Packets Transferred :  116124\n",
      "Packets Transferred :  116124\n",
      "Packets Transferred :  58062\n",
      "Packets Transferred :  58062\n",
      "Packets Transferred :  58062\n",
      "Packets Transferred :  58062\n",
      "Packets Transferred :  58062\n",
      "Packets Transferred :  58062\n",
      "Packets Transferred :  58062\n",
      "Packets Transferred :  58062\n",
      "Packets Transferred :  58062\n",
      "Packets Transferred :  58062\n",
      "Packets Transferred :  58062\n",
      "Packets Transferred :  58062\n",
      "Packets Transferred :  58062\n",
      "Packets Transferred :  58062\n",
      "Packets Transferred :  58062\n",
      "Packets Transferred :  58062\n",
      "Packets Transferred :  58062\n",
      "Packets Transferred :  58062\n",
      "Packets Transferred :  58062\n",
      "Packets Transferred :  58062\n",
      "Packets Transferred :  58062\n",
      "Packets Transferred :  58062\n",
      "Packets Transferred :  58062\n",
      "Packets Transferred :  58062\n",
      "Packets Transferred :  58062\n",
      "Packets Transferred :  29031\n",
      "Packets Transferred :  29031\n",
      "Packets Transferred :  29031\n",
      "Packets Transferred :  29031\n",
      "Packets Transferred :  29031\n",
      "Packets Transferred :  29031\n",
      "Packets Transferred :  29031\n",
      "Packets Transferred :  29031\n",
      "Packets Transferred :  29031\n",
      "Packets Transferred :  29031\n",
      "Packets Transferred :  29031\n",
      "Packets Transferred :  29031\n",
      "Packets Transferred :  29031\n",
      "Packets Transferred :  29031\n",
      "Packets Transferred :  29031\n",
      "Packets Transferred :  29031\n",
      "Packets Transferred :  29031\n",
      "Packets Transferred :  29031\n",
      "Packets Transferred :  29031\n",
      "Packets Transferred :  29031\n",
      "Packets Transferred :  29031\n",
      "Packets Transferred :  29031\n",
      "Packets Transferred :  29031\n",
      "Packets Transferred :  29031\n",
      "Packets Transferred :  29031\n"
     ]
    }
   ],
   "source": [
    "observations = [1.0, 0.5, 0.25, 0.125, 0.0625]\n",
    "\n",
    "for i in observations :\n",
    "    for j in range(25) :\n",
    "        time.sleep(1)\n",
    "        message_array = []\n",
    "        client_program(i)\n",
    "        time.sleep(5)"
   ]
  },
  {
   "cell_type": "code",
   "execution_count": null,
   "metadata": {},
   "outputs": [],
   "source": []
  },
  {
   "cell_type": "code",
   "execution_count": null,
   "metadata": {},
   "outputs": [],
   "source": []
  },
  {
   "cell_type": "markdown",
   "metadata": {},
   "source": [
    "# Code for UnCompressed"
   ]
  },
  {
   "cell_type": "code",
   "execution_count": null,
   "metadata": {},
   "outputs": [],
   "source": []
  },
  {
   "cell_type": "code",
   "execution_count": null,
   "metadata": {},
   "outputs": [],
   "source": []
  },
  {
   "cell_type": "code",
   "execution_count": 72,
   "metadata": {},
   "outputs": [],
   "source": [
    "client_socket = socket.socket(socket.AF_INET, socket.SOCK_STREAM)  # instantiate\n",
    "client_socket.connect((host, port))  # connect to the server\n",
    "\n",
    "message_array = []\n",
    "\n",
    "for i in range(0,len(int_dataset)):\n",
    "    handShake = to_twoscomplement(8 ,int_dataset[i])\n",
    "    final = binaryToDecimal(handShake).to_bytes(1, byteorder=\"little\")\n",
    "    storeMessage(final)\n",
    "\n",
    "\n",
    "\n",
    "for i in message_array :\n",
    "    sendMessage(i , client_socket)\n",
    "    \n",
    "\n",
    "    \n",
    "client_socket.send(''.encode())\n",
    "client_socket.close()  # close the connection\n"
   ]
  },
  {
   "cell_type": "code",
   "execution_count": null,
   "metadata": {},
   "outputs": [],
   "source": []
  },
  {
   "cell_type": "code",
   "execution_count": 105,
   "metadata": {},
   "outputs": [],
   "source": [
    "def client_program_uc(obv_factor):\n",
    "    client_socket = socket.socket(socket.AF_INET, socket.SOCK_STREAM)  # instantiate\n",
    "    client_socket.connect((host, port))  # connect to the server\n",
    "\n",
    "    count = 0 \n",
    "    for i in range(0,int(len(int_dataset) * obv_factor)):\n",
    "        handShake = to_twoscomplement(8 ,int_dataset[i])\n",
    "        final = binaryToDecimal(handShake).to_bytes(1, byteorder=\"little\")\n",
    "        storeMessage(final)\n",
    "        count += 1\n",
    "\n",
    "\n",
    "    for i in message_array :\n",
    "        sendMessage(i , client_socket)\n",
    "\n",
    "\n",
    "    print(\"Packets Transferred : \" , count)    \n",
    "    client_socket.send(''.encode())\n",
    "    client_socket.close()  # close the connection\n",
    "    "
   ]
  },
  {
   "cell_type": "code",
   "execution_count": 107,
   "metadata": {},
   "outputs": [
    {
     "name": "stdout",
     "output_type": "stream",
     "text": [
      "Packets Transferred :  928991\n",
      "Packets Transferred :  928991\n",
      "Packets Transferred :  928991\n",
      "Packets Transferred :  928991\n",
      "Packets Transferred :  928991\n",
      "Packets Transferred :  928991\n",
      "Packets Transferred :  928991\n",
      "Packets Transferred :  928991\n",
      "Packets Transferred :  928991\n",
      "Packets Transferred :  928991\n",
      "Packets Transferred :  928991\n",
      "Packets Transferred :  928991\n",
      "Packets Transferred :  928991\n",
      "Packets Transferred :  928991\n",
      "Packets Transferred :  928991\n",
      "Packets Transferred :  928991\n",
      "Packets Transferred :  928991\n",
      "Packets Transferred :  928991\n",
      "Packets Transferred :  928991\n",
      "Packets Transferred :  928991\n",
      "Packets Transferred :  928991\n",
      "Packets Transferred :  928991\n",
      "Packets Transferred :  928991\n",
      "Packets Transferred :  928991\n",
      "Packets Transferred :  928991\n",
      "Packets Transferred :  464495\n",
      "Packets Transferred :  464495\n",
      "Packets Transferred :  464495\n",
      "Packets Transferred :  464495\n",
      "Packets Transferred :  464495\n",
      "Packets Transferred :  464495\n",
      "Packets Transferred :  464495\n",
      "Packets Transferred :  464495\n",
      "Packets Transferred :  464495\n",
      "Packets Transferred :  464495\n",
      "Packets Transferred :  464495\n",
      "Packets Transferred :  464495\n",
      "Packets Transferred :  464495\n",
      "Packets Transferred :  464495\n",
      "Packets Transferred :  464495\n",
      "Packets Transferred :  464495\n",
      "Packets Transferred :  464495\n",
      "Packets Transferred :  464495\n",
      "Packets Transferred :  464495\n",
      "Packets Transferred :  464495\n",
      "Packets Transferred :  464495\n",
      "Packets Transferred :  464495\n",
      "Packets Transferred :  464495\n",
      "Packets Transferred :  464495\n",
      "Packets Transferred :  464495\n",
      "Packets Transferred :  232247\n",
      "Packets Transferred :  232247\n",
      "Packets Transferred :  232247\n",
      "Packets Transferred :  232247\n",
      "Packets Transferred :  232247\n",
      "Packets Transferred :  232247\n",
      "Packets Transferred :  232247\n",
      "Packets Transferred :  232247\n",
      "Packets Transferred :  232247\n",
      "Packets Transferred :  232247\n",
      "Packets Transferred :  232247\n",
      "Packets Transferred :  232247\n",
      "Packets Transferred :  232247\n",
      "Packets Transferred :  232247\n",
      "Packets Transferred :  232247\n",
      "Packets Transferred :  232247\n",
      "Packets Transferred :  232247\n",
      "Packets Transferred :  232247\n",
      "Packets Transferred :  232247\n",
      "Packets Transferred :  232247\n",
      "Packets Transferred :  232247\n",
      "Packets Transferred :  232247\n",
      "Packets Transferred :  232247\n",
      "Packets Transferred :  232247\n",
      "Packets Transferred :  232247\n",
      "Packets Transferred :  116123\n",
      "Packets Transferred :  116123\n",
      "Packets Transferred :  116123\n",
      "Packets Transferred :  116123\n",
      "Packets Transferred :  116123\n",
      "Packets Transferred :  116123\n",
      "Packets Transferred :  116123\n",
      "Packets Transferred :  116123\n",
      "Packets Transferred :  116123\n",
      "Packets Transferred :  116123\n",
      "Packets Transferred :  116123\n",
      "Packets Transferred :  116123\n",
      "Packets Transferred :  116123\n",
      "Packets Transferred :  116123\n",
      "Packets Transferred :  116123\n",
      "Packets Transferred :  116123\n",
      "Packets Transferred :  116123\n",
      "Packets Transferred :  116123\n",
      "Packets Transferred :  116123\n",
      "Packets Transferred :  116123\n",
      "Packets Transferred :  116123\n",
      "Packets Transferred :  116123\n",
      "Packets Transferred :  116123\n",
      "Packets Transferred :  116123\n",
      "Packets Transferred :  116123\n",
      "Packets Transferred :  58061\n",
      "Packets Transferred :  58061\n",
      "Packets Transferred :  58061\n",
      "Packets Transferred :  58061\n",
      "Packets Transferred :  58061\n",
      "Packets Transferred :  58061\n",
      "Packets Transferred :  58061\n",
      "Packets Transferred :  58061\n",
      "Packets Transferred :  58061\n",
      "Packets Transferred :  58061\n",
      "Packets Transferred :  58061\n",
      "Packets Transferred :  58061\n",
      "Packets Transferred :  58061\n",
      "Packets Transferred :  58061\n",
      "Packets Transferred :  58061\n",
      "Packets Transferred :  58061\n",
      "Packets Transferred :  58061\n",
      "Packets Transferred :  58061\n",
      "Packets Transferred :  58061\n",
      "Packets Transferred :  58061\n",
      "Packets Transferred :  58061\n",
      "Packets Transferred :  58061\n",
      "Packets Transferred :  58061\n",
      "Packets Transferred :  58061\n",
      "Packets Transferred :  58061\n"
     ]
    }
   ],
   "source": [
    "observations = [1.0, 0.5, 0.25, 0.125, 0.0625]\n",
    "\n",
    "for i in observations :\n",
    "    for j in range(25) :\n",
    "        time.sleep(1)\n",
    "        message_array = []\n",
    "        client_program_uc(i)\n",
    "        time.sleep(5)\n"
   ]
  },
  {
   "cell_type": "code",
   "execution_count": null,
   "metadata": {},
   "outputs": [],
   "source": []
  },
  {
   "cell_type": "code",
   "execution_count": null,
   "metadata": {},
   "outputs": [],
   "source": []
  },
  {
   "cell_type": "code",
   "execution_count": null,
   "metadata": {},
   "outputs": [],
   "source": []
  },
  {
   "cell_type": "code",
   "execution_count": null,
   "metadata": {},
   "outputs": [],
   "source": [
    "cipher1 = encrypt('00000000','0000000000','13')\n",
    "cipher2 = encrypt('00000000','0000000000','13' , True)\n",
    "cipher = encrypt('00000000','0000000000','1313')"
   ]
  },
  {
   "cell_type": "code",
   "execution_count": null,
   "metadata": {
    "scrolled": true
   },
   "outputs": [],
   "source": [
    "print(cipher)"
   ]
  },
  {
   "cell_type": "code",
   "execution_count": null,
   "metadata": {},
   "outputs": [],
   "source": [
    "print(cipher1)"
   ]
  },
  {
   "cell_type": "code",
   "execution_count": null,
   "metadata": {},
   "outputs": [],
   "source": [
    "print(cipher2)"
   ]
  },
  {
   "cell_type": "code",
   "execution_count": null,
   "metadata": {},
   "outputs": [],
   "source": [
    "print(cipher1+cipher2)"
   ]
  },
  {
   "cell_type": "code",
   "execution_count": null,
   "metadata": {},
   "outputs": [],
   "source": [
    "plain = decrypt('00000000','0000000000', cipher1+cipher2)"
   ]
  },
  {
   "cell_type": "code",
   "execution_count": null,
   "metadata": {},
   "outputs": [],
   "source": [
    "print(plain)"
   ]
  },
  {
   "cell_type": "code",
   "execution_count": null,
   "metadata": {},
   "outputs": [],
   "source": [
    "plain = decrypt('00000000','0000000000', cipher)"
   ]
  },
  {
   "cell_type": "code",
   "execution_count": null,
   "metadata": {},
   "outputs": [],
   "source": [
    "print(plain)"
   ]
  },
  {
   "cell_type": "code",
   "execution_count": null,
   "metadata": {},
   "outputs": [],
   "source": []
  }
 ],
 "metadata": {
  "kernelspec": {
   "display_name": "Python 3",
   "language": "python",
   "name": "python3"
  },
  "language_info": {
   "codemirror_mode": {
    "name": "ipython",
    "version": 3
   },
   "file_extension": ".py",
   "mimetype": "text/x-python",
   "name": "python",
   "nbconvert_exporter": "python",
   "pygments_lexer": "ipython3",
   "version": "3.7.1"
  }
 },
 "nbformat": 4,
 "nbformat_minor": 2
}
