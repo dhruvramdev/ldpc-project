{
 "cells": [
  {
   "cell_type": "code",
   "execution_count": 1,
   "metadata": {},
   "outputs": [],
   "source": [
    "import numpy as np\n",
    "import binascii"
   ]
  },
  {
   "cell_type": "code",
   "execution_count": 2,
   "metadata": {},
   "outputs": [],
   "source": [
    "def decimalToBinary(num , places):\n",
    "    return ('{0:0' +  str(places) + 'b}').format(num)\n",
    "\n",
    "\n",
    "def binaryToDecimal(binary):\n",
    "    return int(binary, 2)\n",
    "        \n",
    "def xorBinary(binary,key = \"00000000\"):\n",
    "    i=0\n",
    "    encBin = \"\"\n",
    "    while(i<8):\n",
    "        if(binary[i] == '0' and key[i] == '0') or (binary[i] == '1' and key[i] == '1'):\n",
    "            encBin+=\"0\"\n",
    "        else:\n",
    "            encBin+=\"1\"\n",
    "        i+=1\n",
    "        \n",
    "#     print(binary , key , encBin)    \n",
    "    return encBin\n",
    "    \n",
    "def compressBinary(binary):\n",
    "    i=0\n",
    "    compressBin = \"\"\n",
    "    while(i<8):\n",
    "        if(i%2 == 0):\n",
    "            if((binary[i] == '0' and binary[i+1] == '0') or (binary[i] == '1' and binary[i+1] == '1')):\n",
    "                compressBin+=\"0\"\n",
    "            else:\n",
    "                compressBin+=\"1\"\n",
    "        i+=1\n",
    "        \n",
    "    return compressBin\n",
    "\n",
    "def to_twoscomplement(bits, value):\n",
    "    if value < 0:\n",
    "        value = ( 1<<bits ) + value\n",
    "    formatstring = '{:0%ib}' % bits\n",
    "    return formatstring.format(value)\n"
   ]
  },
  {
   "cell_type": "markdown",
   "metadata": {},
   "source": [
    "# Code for Importing Data"
   ]
  },
  {
   "cell_type": "code",
   "execution_count": 3,
   "metadata": {},
   "outputs": [],
   "source": [
    "import pandas as pd\n",
    "article_read = pd.read_csv('dataset.csv',delimiter = ',')"
   ]
  },
  {
   "cell_type": "code",
   "execution_count": 4,
   "metadata": {},
   "outputs": [],
   "source": [
    "# new_dataset = pd.Series(list(article_read['Temp.'].sample(101 , random_state=10)))\n",
    "new_dataset = article_read['Temp.']\n",
    "\n",
    "# new_dataset"
   ]
  },
  {
   "cell_type": "code",
   "execution_count": null,
   "metadata": {},
   "outputs": [],
   "source": []
  },
  {
   "cell_type": "markdown",
   "metadata": {},
   "source": [
    "# Code For Delta Coding"
   ]
  },
  {
   "cell_type": "code",
   "execution_count": 5,
   "metadata": {},
   "outputs": [
    {
     "data": {
      "text/plain": [
       "count    928991.000000\n",
       "mean         27.283373\n",
       "std           0.904537\n",
       "min          24.434400\n",
       "25%          26.764900\n",
       "50%          27.328400\n",
       "75%          27.868700\n",
       "max          30.325400\n",
       "Name: Temp., dtype: float64"
      ]
     },
     "execution_count": 5,
     "metadata": {},
     "output_type": "execute_result"
    }
   ],
   "source": [
    "new_dataset.describe()"
   ]
  },
  {
   "cell_type": "code",
   "execution_count": 6,
   "metadata": {},
   "outputs": [],
   "source": [
    "int_dataset = new_dataset * 10000"
   ]
  },
  {
   "cell_type": "code",
   "execution_count": 7,
   "metadata": {},
   "outputs": [],
   "source": [
    "int_dataset = int_dataset.astype('int64')"
   ]
  },
  {
   "cell_type": "code",
   "execution_count": 8,
   "metadata": {},
   "outputs": [
    {
     "data": {
      "text/plain": [
       "0    262257\n",
       "1    262308\n",
       "2    262365\n",
       "3    262416\n",
       "4    262462\n",
       "Name: Temp., dtype: int64"
      ]
     },
     "execution_count": 8,
     "metadata": {},
     "output_type": "execute_result"
    }
   ],
   "source": [
    "int_dataset.head()"
   ]
  },
  {
   "cell_type": "code",
   "execution_count": 9,
   "metadata": {},
   "outputs": [],
   "source": [
    "diff_dataset = [int_dataset[0]]\n",
    "for i in range(1 , len(int_dataset)) :\n",
    "        diff_dataset.append(int_dataset[i] - int_dataset[i-1])"
   ]
  },
  {
   "cell_type": "code",
   "execution_count": 10,
   "metadata": {},
   "outputs": [],
   "source": [
    "diff_dataset = pd.Series(diff_dataset)"
   ]
  },
  {
   "cell_type": "code",
   "execution_count": 11,
   "metadata": {},
   "outputs": [
    {
     "data": {
      "text/plain": [
       "0    262257\n",
       "1        51\n",
       "2        57\n",
       "3        51\n",
       "4        46\n",
       "dtype: int64"
      ]
     },
     "execution_count": 11,
     "metadata": {},
     "output_type": "execute_result"
    }
   ],
   "source": [
    "diff_dataset.head()"
   ]
  },
  {
   "cell_type": "code",
   "execution_count": 12,
   "metadata": {},
   "outputs": [],
   "source": [
    "import seaborn as sns\n",
    "%matplotlib inline\n"
   ]
  },
  {
   "cell_type": "code",
   "execution_count": 13,
   "metadata": {},
   "outputs": [
    {
     "data": {
      "text/plain": [
       "count    928991.000000\n",
       "mean          0.298587\n",
       "std         295.352490\n",
       "min      -41416.000000\n",
       "25%          -7.000000\n",
       "50%           0.000000\n",
       "75%           6.000000\n",
       "max      262257.000000\n",
       "dtype: float64"
      ]
     },
     "execution_count": 13,
     "metadata": {},
     "output_type": "execute_result"
    }
   ],
   "source": [
    "diff_dataset.describe()"
   ]
  },
  {
   "cell_type": "code",
   "execution_count": 14,
   "metadata": {},
   "outputs": [
    {
     "data": {
      "text/plain": [
       "928991"
      ]
     },
     "execution_count": 14,
     "metadata": {},
     "output_type": "execute_result"
    }
   ],
   "source": [
    "len(diff_dataset)"
   ]
  },
  {
   "cell_type": "code",
   "execution_count": 15,
   "metadata": {},
   "outputs": [
    {
     "data": {
      "text/plain": [
       "24877"
      ]
     },
     "execution_count": 15,
     "metadata": {},
     "output_type": "execute_result"
    }
   ],
   "source": [
    "((diff_dataset > 64) | (diff_dataset < -64)).sum() "
   ]
  },
  {
   "cell_type": "code",
   "execution_count": 16,
   "metadata": {},
   "outputs": [
    {
     "data": {
      "text/plain": [
       "2.6778515615328886"
      ]
     },
     "execution_count": 16,
     "metadata": {},
     "output_type": "execute_result"
    }
   ],
   "source": [
    "24877/928991 * 100"
   ]
  },
  {
   "cell_type": "code",
   "execution_count": 17,
   "metadata": {},
   "outputs": [
    {
     "data": {
      "text/plain": [
       "0.4214228124922631"
      ]
     },
     "execution_count": 17,
     "metadata": {},
     "output_type": "execute_result"
    }
   ],
   "source": [
    "(2.6778515615328886 * 24 + (100 - 2.6778515615328886) *  8) / (100 * 20)\n"
   ]
  },
  {
   "cell_type": "code",
   "execution_count": 21,
   "metadata": {},
   "outputs": [],
   "source": [
    "bytesToSend = []\n",
    "for i in diff_dataset :\n",
    "    if(i > 64 or i < -64) :\n",
    "        # Send 3 Bytes\n",
    "        number = decimalToBinary(abs(i) , 21)\n",
    "        if(i < 0):\n",
    "            firstByte = '01' + number[1:7]\n",
    "        else :\n",
    "            firstByte = '00' + number[1:7]\n",
    "        secondByte = '0' + number[7:14]\n",
    "        thirdByte = '0' + number[14:21]\n",
    "        bytesToSend.append(firstByte)\n",
    "        bytesToSend.append(secondByte)\n",
    "        bytesToSend.append(thirdByte)\n",
    "    else :\n",
    "        number = decimalToBinary(abs(i) , 6)\n",
    "        if(i < 0):\n",
    "            firstByte = '11' + number\n",
    "        else :\n",
    "            firstByte = '10' + number\n",
    "        bytesToSend.append(firstByte)\n",
    "\n",
    "            \n",
    "        \n",
    "        \n",
    "        \n",
    "        \n",
    "        "
   ]
  },
  {
   "cell_type": "code",
   "execution_count": 22,
   "metadata": {},
   "outputs": [
    {
     "data": {
      "text/plain": [
       "978745"
      ]
     },
     "execution_count": 22,
     "metadata": {},
     "output_type": "execute_result"
    }
   ],
   "source": [
    "len(bytesToSend)"
   ]
  },
  {
   "cell_type": "code",
   "execution_count": 23,
   "metadata": {},
   "outputs": [
    {
     "name": "stdout",
     "output_type": "stream",
     "text": [
      "16 12 10001100\n",
      "17 10 10001010\n",
      "18 3 10000011\n",
      "19 -1 11000001\n",
      "20 0 10000000\n"
     ]
    }
   ],
   "source": [
    "i = 0\n",
    "current = 0\n",
    "currentByte = ''\n",
    "\n",
    "dataSet = []\n",
    "last = 0\n",
    "\n",
    "while(i < len(bytesToSend)) :\n",
    "    recvByte = bytesToSend[i]\n",
    "    if recvByte[0] == '0' :\n",
    "        current += 1\n",
    "        currentByte += recvByte[1:]\n",
    "        if current == 3 :\n",
    "            dataPoint = int(currentByte[1:], 2)\n",
    "            if(currentByte[0]) == '1' :\n",
    "                dataPoint *= -1\n",
    "            \n",
    "            dataPoint += last\n",
    "            dataSet.append(dataPoint)\n",
    "            last = dataPoint\n",
    "            current = 0\n",
    "            currentByte = ''\n",
    "    else :\n",
    "        dataPoint = int(recvByte[2:], 2)\n",
    "        if(recvByte[1]) == '1' :\n",
    "            dataPoint *= -1\n",
    "        if i > 15 and i < 21 :\n",
    "            print(i , dataPoint , recvByte) \n",
    "        dataPoint += last\n",
    "        dataSet.append(dataPoint)\n",
    "        last = dataPoint\n",
    "    \n",
    "    i+=1\n",
    "    \n",
    "dataSet = pd.Series(dataSet)"
   ]
  },
  {
   "cell_type": "code",
   "execution_count": 24,
   "metadata": {},
   "outputs": [
    {
     "data": {
      "text/html": [
       "<div>\n",
       "<style scoped>\n",
       "    .dataframe tbody tr th:only-of-type {\n",
       "        vertical-align: middle;\n",
       "    }\n",
       "\n",
       "    .dataframe tbody tr th {\n",
       "        vertical-align: top;\n",
       "    }\n",
       "\n",
       "    .dataframe thead th {\n",
       "        text-align: right;\n",
       "    }\n",
       "</style>\n",
       "<table border=\"1\" class=\"dataframe\">\n",
       "  <thead>\n",
       "    <tr style=\"text-align: right;\">\n",
       "      <th></th>\n",
       "      <th>0</th>\n",
       "      <th>Temp.</th>\n",
       "      <th>1</th>\n",
       "    </tr>\n",
       "  </thead>\n",
       "  <tbody>\n",
       "    <tr>\n",
       "      <th>0</th>\n",
       "      <td>262257</td>\n",
       "      <td>262257</td>\n",
       "      <td>262257</td>\n",
       "    </tr>\n",
       "    <tr>\n",
       "      <th>1</th>\n",
       "      <td>262308</td>\n",
       "      <td>262308</td>\n",
       "      <td>51</td>\n",
       "    </tr>\n",
       "    <tr>\n",
       "      <th>2</th>\n",
       "      <td>262365</td>\n",
       "      <td>262365</td>\n",
       "      <td>57</td>\n",
       "    </tr>\n",
       "    <tr>\n",
       "      <th>3</th>\n",
       "      <td>262416</td>\n",
       "      <td>262416</td>\n",
       "      <td>51</td>\n",
       "    </tr>\n",
       "    <tr>\n",
       "      <th>4</th>\n",
       "      <td>262462</td>\n",
       "      <td>262462</td>\n",
       "      <td>46</td>\n",
       "    </tr>\n",
       "    <tr>\n",
       "      <th>5</th>\n",
       "      <td>262503</td>\n",
       "      <td>262503</td>\n",
       "      <td>41</td>\n",
       "    </tr>\n",
       "    <tr>\n",
       "      <th>6</th>\n",
       "      <td>262541</td>\n",
       "      <td>262541</td>\n",
       "      <td>38</td>\n",
       "    </tr>\n",
       "    <tr>\n",
       "      <th>7</th>\n",
       "      <td>262575</td>\n",
       "      <td>262575</td>\n",
       "      <td>34</td>\n",
       "    </tr>\n",
       "    <tr>\n",
       "      <th>8</th>\n",
       "      <td>262606</td>\n",
       "      <td>262606</td>\n",
       "      <td>31</td>\n",
       "    </tr>\n",
       "    <tr>\n",
       "      <th>9</th>\n",
       "      <td>262626</td>\n",
       "      <td>262626</td>\n",
       "      <td>20</td>\n",
       "    </tr>\n",
       "    <tr>\n",
       "      <th>10</th>\n",
       "      <td>262643</td>\n",
       "      <td>262643</td>\n",
       "      <td>17</td>\n",
       "    </tr>\n",
       "    <tr>\n",
       "      <th>11</th>\n",
       "      <td>262658</td>\n",
       "      <td>262658</td>\n",
       "      <td>15</td>\n",
       "    </tr>\n",
       "    <tr>\n",
       "      <th>12</th>\n",
       "      <td>262671</td>\n",
       "      <td>262671</td>\n",
       "      <td>13</td>\n",
       "    </tr>\n",
       "    <tr>\n",
       "      <th>13</th>\n",
       "      <td>262683</td>\n",
       "      <td>262683</td>\n",
       "      <td>12</td>\n",
       "    </tr>\n",
       "    <tr>\n",
       "      <th>14</th>\n",
       "      <td>262695</td>\n",
       "      <td>262695</td>\n",
       "      <td>12</td>\n",
       "    </tr>\n",
       "    <tr>\n",
       "      <th>15</th>\n",
       "      <td>262705</td>\n",
       "      <td>262705</td>\n",
       "      <td>10</td>\n",
       "    </tr>\n",
       "    <tr>\n",
       "      <th>16</th>\n",
       "      <td>262708</td>\n",
       "      <td>262708</td>\n",
       "      <td>3</td>\n",
       "    </tr>\n",
       "    <tr>\n",
       "      <th>17</th>\n",
       "      <td>262707</td>\n",
       "      <td>262707</td>\n",
       "      <td>-1</td>\n",
       "    </tr>\n",
       "    <tr>\n",
       "      <th>18</th>\n",
       "      <td>262707</td>\n",
       "      <td>262707</td>\n",
       "      <td>0</td>\n",
       "    </tr>\n",
       "    <tr>\n",
       "      <th>19</th>\n",
       "      <td>262706</td>\n",
       "      <td>262706</td>\n",
       "      <td>-1</td>\n",
       "    </tr>\n",
       "    <tr>\n",
       "      <th>20</th>\n",
       "      <td>262706</td>\n",
       "      <td>262706</td>\n",
       "      <td>0</td>\n",
       "    </tr>\n",
       "    <tr>\n",
       "      <th>21</th>\n",
       "      <td>262705</td>\n",
       "      <td>262705</td>\n",
       "      <td>-1</td>\n",
       "    </tr>\n",
       "    <tr>\n",
       "      <th>22</th>\n",
       "      <td>262705</td>\n",
       "      <td>262705</td>\n",
       "      <td>0</td>\n",
       "    </tr>\n",
       "    <tr>\n",
       "      <th>23</th>\n",
       "      <td>262707</td>\n",
       "      <td>262707</td>\n",
       "      <td>2</td>\n",
       "    </tr>\n",
       "    <tr>\n",
       "      <th>24</th>\n",
       "      <td>262709</td>\n",
       "      <td>262709</td>\n",
       "      <td>2</td>\n",
       "    </tr>\n",
       "    <tr>\n",
       "      <th>25</th>\n",
       "      <td>262594</td>\n",
       "      <td>262594</td>\n",
       "      <td>-115</td>\n",
       "    </tr>\n",
       "    <tr>\n",
       "      <th>26</th>\n",
       "      <td>262490</td>\n",
       "      <td>262490</td>\n",
       "      <td>-104</td>\n",
       "    </tr>\n",
       "    <tr>\n",
       "      <th>27</th>\n",
       "      <td>262386</td>\n",
       "      <td>262386</td>\n",
       "      <td>-104</td>\n",
       "    </tr>\n",
       "    <tr>\n",
       "      <th>28</th>\n",
       "      <td>262292</td>\n",
       "      <td>262292</td>\n",
       "      <td>-94</td>\n",
       "    </tr>\n",
       "    <tr>\n",
       "      <th>29</th>\n",
       "      <td>262207</td>\n",
       "      <td>262207</td>\n",
       "      <td>-85</td>\n",
       "    </tr>\n",
       "    <tr>\n",
       "      <th>...</th>\n",
       "      <td>...</td>\n",
       "      <td>...</td>\n",
       "      <td>...</td>\n",
       "    </tr>\n",
       "    <tr>\n",
       "      <th>928961</th>\n",
       "      <td>277987</td>\n",
       "      <td>277987</td>\n",
       "      <td>-94</td>\n",
       "    </tr>\n",
       "    <tr>\n",
       "      <th>928962</th>\n",
       "      <td>277903</td>\n",
       "      <td>277903</td>\n",
       "      <td>-84</td>\n",
       "    </tr>\n",
       "    <tr>\n",
       "      <th>928963</th>\n",
       "      <td>277826</td>\n",
       "      <td>277826</td>\n",
       "      <td>-77</td>\n",
       "    </tr>\n",
       "    <tr>\n",
       "      <th>928964</th>\n",
       "      <td>277757</td>\n",
       "      <td>277757</td>\n",
       "      <td>-69</td>\n",
       "    </tr>\n",
       "    <tr>\n",
       "      <th>928965</th>\n",
       "      <td>277695</td>\n",
       "      <td>277695</td>\n",
       "      <td>-62</td>\n",
       "    </tr>\n",
       "    <tr>\n",
       "      <th>928966</th>\n",
       "      <td>277638</td>\n",
       "      <td>277638</td>\n",
       "      <td>-57</td>\n",
       "    </tr>\n",
       "    <tr>\n",
       "      <th>928967</th>\n",
       "      <td>277587</td>\n",
       "      <td>277587</td>\n",
       "      <td>-51</td>\n",
       "    </tr>\n",
       "    <tr>\n",
       "      <th>928968</th>\n",
       "      <td>277540</td>\n",
       "      <td>277540</td>\n",
       "      <td>-47</td>\n",
       "    </tr>\n",
       "    <tr>\n",
       "      <th>928969</th>\n",
       "      <td>277498</td>\n",
       "      <td>277498</td>\n",
       "      <td>-42</td>\n",
       "    </tr>\n",
       "    <tr>\n",
       "      <th>928970</th>\n",
       "      <td>277461</td>\n",
       "      <td>277461</td>\n",
       "      <td>-37</td>\n",
       "    </tr>\n",
       "    <tr>\n",
       "      <th>928971</th>\n",
       "      <td>277426</td>\n",
       "      <td>277426</td>\n",
       "      <td>-35</td>\n",
       "    </tr>\n",
       "    <tr>\n",
       "      <th>928972</th>\n",
       "      <td>277399</td>\n",
       "      <td>277399</td>\n",
       "      <td>-27</td>\n",
       "    </tr>\n",
       "    <tr>\n",
       "      <th>928973</th>\n",
       "      <td>277380</td>\n",
       "      <td>277380</td>\n",
       "      <td>-19</td>\n",
       "    </tr>\n",
       "    <tr>\n",
       "      <th>928974</th>\n",
       "      <td>277363</td>\n",
       "      <td>277363</td>\n",
       "      <td>-17</td>\n",
       "    </tr>\n",
       "    <tr>\n",
       "      <th>928975</th>\n",
       "      <td>277348</td>\n",
       "      <td>277348</td>\n",
       "      <td>-15</td>\n",
       "    </tr>\n",
       "    <tr>\n",
       "      <th>928976</th>\n",
       "      <td>277333</td>\n",
       "      <td>277333</td>\n",
       "      <td>-15</td>\n",
       "    </tr>\n",
       "    <tr>\n",
       "      <th>928977</th>\n",
       "      <td>277321</td>\n",
       "      <td>277321</td>\n",
       "      <td>-12</td>\n",
       "    </tr>\n",
       "    <tr>\n",
       "      <th>928978</th>\n",
       "      <td>277309</td>\n",
       "      <td>277309</td>\n",
       "      <td>-12</td>\n",
       "    </tr>\n",
       "    <tr>\n",
       "      <th>928979</th>\n",
       "      <td>277299</td>\n",
       "      <td>277299</td>\n",
       "      <td>-10</td>\n",
       "    </tr>\n",
       "    <tr>\n",
       "      <th>928980</th>\n",
       "      <td>277289</td>\n",
       "      <td>277289</td>\n",
       "      <td>-10</td>\n",
       "    </tr>\n",
       "    <tr>\n",
       "      <th>928981</th>\n",
       "      <td>277281</td>\n",
       "      <td>277281</td>\n",
       "      <td>-8</td>\n",
       "    </tr>\n",
       "    <tr>\n",
       "      <th>928982</th>\n",
       "      <td>277273</td>\n",
       "      <td>277273</td>\n",
       "      <td>-8</td>\n",
       "    </tr>\n",
       "    <tr>\n",
       "      <th>928983</th>\n",
       "      <td>277266</td>\n",
       "      <td>277266</td>\n",
       "      <td>-7</td>\n",
       "    </tr>\n",
       "    <tr>\n",
       "      <th>928984</th>\n",
       "      <td>277260</td>\n",
       "      <td>277260</td>\n",
       "      <td>-6</td>\n",
       "    </tr>\n",
       "    <tr>\n",
       "      <th>928985</th>\n",
       "      <td>277254</td>\n",
       "      <td>277254</td>\n",
       "      <td>-6</td>\n",
       "    </tr>\n",
       "    <tr>\n",
       "      <th>928986</th>\n",
       "      <td>277282</td>\n",
       "      <td>277282</td>\n",
       "      <td>28</td>\n",
       "    </tr>\n",
       "    <tr>\n",
       "      <th>928987</th>\n",
       "      <td>277312</td>\n",
       "      <td>277312</td>\n",
       "      <td>30</td>\n",
       "    </tr>\n",
       "    <tr>\n",
       "      <th>928988</th>\n",
       "      <td>277339</td>\n",
       "      <td>277339</td>\n",
       "      <td>27</td>\n",
       "    </tr>\n",
       "    <tr>\n",
       "      <th>928989</th>\n",
       "      <td>277364</td>\n",
       "      <td>277364</td>\n",
       "      <td>25</td>\n",
       "    </tr>\n",
       "    <tr>\n",
       "      <th>928990</th>\n",
       "      <td>277385</td>\n",
       "      <td>277385</td>\n",
       "      <td>21</td>\n",
       "    </tr>\n",
       "  </tbody>\n",
       "</table>\n",
       "<p>928991 rows × 3 columns</p>\n",
       "</div>"
      ],
      "text/plain": [
       "             0   Temp.       1\n",
       "0       262257  262257  262257\n",
       "1       262308  262308      51\n",
       "2       262365  262365      57\n",
       "3       262416  262416      51\n",
       "4       262462  262462      46\n",
       "5       262503  262503      41\n",
       "6       262541  262541      38\n",
       "7       262575  262575      34\n",
       "8       262606  262606      31\n",
       "9       262626  262626      20\n",
       "10      262643  262643      17\n",
       "11      262658  262658      15\n",
       "12      262671  262671      13\n",
       "13      262683  262683      12\n",
       "14      262695  262695      12\n",
       "15      262705  262705      10\n",
       "16      262708  262708       3\n",
       "17      262707  262707      -1\n",
       "18      262707  262707       0\n",
       "19      262706  262706      -1\n",
       "20      262706  262706       0\n",
       "21      262705  262705      -1\n",
       "22      262705  262705       0\n",
       "23      262707  262707       2\n",
       "24      262709  262709       2\n",
       "25      262594  262594    -115\n",
       "26      262490  262490    -104\n",
       "27      262386  262386    -104\n",
       "28      262292  262292     -94\n",
       "29      262207  262207     -85\n",
       "...        ...     ...     ...\n",
       "928961  277987  277987     -94\n",
       "928962  277903  277903     -84\n",
       "928963  277826  277826     -77\n",
       "928964  277757  277757     -69\n",
       "928965  277695  277695     -62\n",
       "928966  277638  277638     -57\n",
       "928967  277587  277587     -51\n",
       "928968  277540  277540     -47\n",
       "928969  277498  277498     -42\n",
       "928970  277461  277461     -37\n",
       "928971  277426  277426     -35\n",
       "928972  277399  277399     -27\n",
       "928973  277380  277380     -19\n",
       "928974  277363  277363     -17\n",
       "928975  277348  277348     -15\n",
       "928976  277333  277333     -15\n",
       "928977  277321  277321     -12\n",
       "928978  277309  277309     -12\n",
       "928979  277299  277299     -10\n",
       "928980  277289  277289     -10\n",
       "928981  277281  277281      -8\n",
       "928982  277273  277273      -8\n",
       "928983  277266  277266      -7\n",
       "928984  277260  277260      -6\n",
       "928985  277254  277254      -6\n",
       "928986  277282  277282      28\n",
       "928987  277312  277312      30\n",
       "928988  277339  277339      27\n",
       "928989  277364  277364      25\n",
       "928990  277385  277385      21\n",
       "\n",
       "[928991 rows x 3 columns]"
      ]
     },
     "execution_count": 24,
     "metadata": {},
     "output_type": "execute_result"
    }
   ],
   "source": [
    "pd.concat([dataSet, int_dataset , diff_dataset], axis=1)"
   ]
  },
  {
   "cell_type": "code",
   "execution_count": 31,
   "metadata": {},
   "outputs": [
    {
     "data": {
      "text/plain": [
       "0"
      ]
     },
     "execution_count": 31,
     "metadata": {},
     "output_type": "execute_result"
    }
   ],
   "source": [
    "(dataSet != int_dataset).sum() # Zero Denotes No Mis Match."
   ]
  },
  {
   "cell_type": "code",
   "execution_count": 26,
   "metadata": {},
   "outputs": [],
   "source": [
    "# Original Data Sent => Considering 20Bits Per Data Point\n",
    "originalDataSize = len(int_dataset) * 20 / 8"
   ]
  },
  {
   "cell_type": "code",
   "execution_count": 27,
   "metadata": {},
   "outputs": [],
   "source": [
    "# New Data Size \n",
    "compressedDataSize = len(bytesToSend)"
   ]
  },
  {
   "cell_type": "code",
   "execution_count": 28,
   "metadata": {},
   "outputs": [],
   "source": [
    "ratio = compressedDataSize / originalDataSize"
   ]
  },
  {
   "cell_type": "code",
   "execution_count": 29,
   "metadata": {},
   "outputs": [
    {
     "data": {
      "text/plain": [
       "0.4214228124922631"
      ]
     },
     "execution_count": 29,
     "metadata": {},
     "output_type": "execute_result"
    }
   ],
   "source": [
    "ratio"
   ]
  },
  {
   "cell_type": "code",
   "execution_count": 32,
   "metadata": {},
   "outputs": [
    {
     "data": {
      "text/plain": [
       "57.85771875077369"
      ]
     },
     "execution_count": 32,
     "metadata": {},
     "output_type": "execute_result"
    }
   ],
   "source": [
    "(1 - ratio) * 100 # Reduction Percatage"
   ]
  },
  {
   "cell_type": "code",
   "execution_count": null,
   "metadata": {},
   "outputs": [],
   "source": []
  }
 ],
 "metadata": {
  "kernelspec": {
   "display_name": "Python 3",
   "language": "python",
   "name": "python3"
  },
  "language_info": {
   "codemirror_mode": {
    "name": "ipython",
    "version": 3
   },
   "file_extension": ".py",
   "mimetype": "text/x-python",
   "name": "python",
   "nbconvert_exporter": "python",
   "pygments_lexer": "ipython3",
   "version": "3.7.3"
  }
 },
 "nbformat": 4,
 "nbformat_minor": 2
}
