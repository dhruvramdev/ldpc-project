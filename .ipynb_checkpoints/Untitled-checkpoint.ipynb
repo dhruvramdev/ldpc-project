{
 "cells": [
  {
   "cell_type": "code",
   "execution_count": 1,
   "metadata": {},
   "outputs": [],
   "source": [
    "def decimalToBinary(num,k_prec):\n",
    "    binary=\"\"\n",
    "    integral = int(num)\n",
    "    fractional = num-integral\n",
    "    intLength = 0\n",
    "    while(integral):\n",
    "        intLength+=1\n",
    "        remainder=integral%2\n",
    "        binary+=str(remainder)\n",
    "        integral=integral//2\n",
    "    if(intLength<8):\n",
    "        while(intLength<8):\n",
    "            intLength+=1\n",
    "            binary+=\"0\"\n",
    "    binary=binary[ : : -1]\n",
    "    binary+='.'\n",
    "    while(k_prec):\n",
    "        fractional*=2\n",
    "        fract_bit = int(fractional)\n",
    "        if(fract_bit==1):\n",
    "            fractional-=fract_bit\n",
    "            binary+='1'\n",
    "        else:\n",
    "            binary+='0'\n",
    "        k_prec-=1\n",
    "    return binary\n",
    "\n",
    "\n",
    "def binaryToDecimal(binary):\n",
    "#     i=0\n",
    "#     intDecimal=0\n",
    "#     fracDecimal=0.0\n",
    "#     intLength=0\n",
    "#     while(binary[intLength]!='.'):\n",
    "#         intLength+=1\n",
    "#     point=intLength\n",
    "#     intLength-=1\n",
    "#     while(binary[i]!='.'):\n",
    "#         if(binary[i]=='1'):\n",
    "#             intDecimal+=pow(2,intLength)\n",
    "#         intLength-=1\n",
    "#         i+=1\n",
    "#     i=1\n",
    "#     point+=1\n",
    "#     while(point<length):\n",
    "#         if(binary[point]=='1'):\n",
    "#             fracDecimal+=1.0/pow(2,i)\n",
    "#         point+=1\n",
    "#         i+=1\n",
    "#     finalDecimal = float(intDecimal) + float(fracDecimal)\n",
    "#     return round(finalDecimal,4)\n",
    "    number = 0\n",
    "    mult = 1\n",
    "    for i in binary[::-1] :\n",
    "        if i == '1' : \n",
    "            number += mult\n",
    "        mult = mult*2\n",
    "    \n",
    "    return number\n",
    "        \n",
    "    \n",
    "    \n",
    "\n",
    "def compressBinary(binary):\n",
    "    i=0\n",
    "    compressBin = \"\"\n",
    "    while(i<8):\n",
    "        if(i%2 == 0):\n",
    "            if((binary[i] == '0' and binary[i+1] == '0') or (binary[i] == '1' and binary[i+1] == '1')):\n",
    "                compressBin+=\"0\"\n",
    "            else:\n",
    "                compressBin+=\"1\"\n",
    "        i+=1\n",
    "        \n",
    "    return compressBin\n",
    "\n"
   ]
  },
  {
   "cell_type": "code",
   "execution_count": 2,
   "metadata": {},
   "outputs": [],
   "source": [
    "import pandas as pd\n",
    "article_read = pd.read_csv('dataset.csv',delimiter = ',')"
   ]
  },
  {
   "cell_type": "code",
   "execution_count": 3,
   "metadata": {},
   "outputs": [],
   "source": [
    "# article_read['Temp.'].describe()\n",
    "new_dataset = article_read['Temp.'].sample(100 , random_state=101)"
   ]
  },
  {
   "cell_type": "code",
   "execution_count": 4,
   "metadata": {},
   "outputs": [
    {
     "data": {
      "text/plain": [
       "count    100.000000\n",
       "mean      27.248609\n",
       "std        1.010470\n",
       "min       24.609100\n",
       "25%       26.749875\n",
       "50%       27.387000\n",
       "75%       27.867025\n",
       "max       29.506200\n",
       "Name: Temp., dtype: float64"
      ]
     },
     "execution_count": 4,
     "metadata": {},
     "output_type": "execute_result"
    }
   ],
   "source": [
    "new_dataset.describe()"
   ]
  },
  {
   "cell_type": "code",
   "execution_count": 5,
   "metadata": {},
   "outputs": [],
   "source": [
    "a = [int(i) for i in new_dataset]"
   ]
  },
  {
   "cell_type": "code",
   "execution_count": 6,
   "metadata": {},
   "outputs": [],
   "source": [
    "b = [int((i - int(i)) * 100) for i in new_dataset ]"
   ]
  },
  {
   "cell_type": "code",
   "execution_count": 7,
   "metadata": {},
   "outputs": [],
   "source": [
    "c = [int((i* 100 - int(i*100)) * 100) for i in new_dataset ]"
   ]
  },
  {
   "cell_type": "code",
   "execution_count": 8,
   "metadata": {},
   "outputs": [],
   "source": [
    "dic = {'int' : a , 'frac1' : b , 'frac2' : c}\n",
    "df = pd.DataFrame(data=dic)"
   ]
  },
  {
   "cell_type": "code",
   "execution_count": 9,
   "metadata": {},
   "outputs": [
    {
     "data": {
      "text/html": [
       "<div>\n",
       "<style scoped>\n",
       "    .dataframe tbody tr th:only-of-type {\n",
       "        vertical-align: middle;\n",
       "    }\n",
       "\n",
       "    .dataframe tbody tr th {\n",
       "        vertical-align: top;\n",
       "    }\n",
       "\n",
       "    .dataframe thead th {\n",
       "        text-align: right;\n",
       "    }\n",
       "</style>\n",
       "<table border=\"1\" class=\"dataframe\">\n",
       "  <thead>\n",
       "    <tr style=\"text-align: right;\">\n",
       "      <th></th>\n",
       "      <th>int</th>\n",
       "      <th>frac1</th>\n",
       "      <th>frac2</th>\n",
       "    </tr>\n",
       "  </thead>\n",
       "  <tbody>\n",
       "    <tr>\n",
       "      <th>0</th>\n",
       "      <td>26</td>\n",
       "      <td>85</td>\n",
       "      <td>25</td>\n",
       "    </tr>\n",
       "    <tr>\n",
       "      <th>1</th>\n",
       "      <td>27</td>\n",
       "      <td>89</td>\n",
       "      <td>44</td>\n",
       "    </tr>\n",
       "    <tr>\n",
       "      <th>2</th>\n",
       "      <td>27</td>\n",
       "      <td>1</td>\n",
       "      <td>62</td>\n",
       "    </tr>\n",
       "    <tr>\n",
       "      <th>3</th>\n",
       "      <td>28</td>\n",
       "      <td>32</td>\n",
       "      <td>63</td>\n",
       "    </tr>\n",
       "    <tr>\n",
       "      <th>4</th>\n",
       "      <td>27</td>\n",
       "      <td>27</td>\n",
       "      <td>92</td>\n",
       "    </tr>\n",
       "  </tbody>\n",
       "</table>\n",
       "</div>"
      ],
      "text/plain": [
       "   int  frac1  frac2\n",
       "0   26     85     25\n",
       "1   27     89     44\n",
       "2   27      1     62\n",
       "3   28     32     63\n",
       "4   27     27     92"
      ]
     },
     "execution_count": 9,
     "metadata": {},
     "output_type": "execute_result"
    }
   ],
   "source": [
    "df.head()"
   ]
  },
  {
   "cell_type": "code",
   "execution_count": 17,
   "metadata": {},
   "outputs": [],
   "source": [
    "a_compressed = [compressBinary(decimalToBinary(i , 0)[:-1]) for i in a]\n",
    "b_compressed = [compressBinary(decimalToBinary(i , 0)[:-1]) for i in b]\n",
    "c_compressed = [compressBinary(decimalToBinary(i , 0)[:-1]) for i in c]"
   ]
  },
  {
   "cell_type": "code",
   "execution_count": 11,
   "metadata": {},
   "outputs": [
    {
     "data": {
      "text/plain": [
       "count    100.000000\n",
       "mean      26.760000\n",
       "std        1.083578\n",
       "min       24.000000\n",
       "25%       26.000000\n",
       "50%       27.000000\n",
       "75%       27.000000\n",
       "max       29.000000\n",
       "Name: int, dtype: float64"
      ]
     },
     "execution_count": 11,
     "metadata": {},
     "output_type": "execute_result"
    }
   ],
   "source": [
    "df['int'].describe()"
   ]
  },
  {
   "cell_type": "code",
   "execution_count": 26,
   "metadata": {},
   "outputs": [],
   "source": [
    "def collision_checker(minimum = 0 , maximum=99) : \n",
    "    for i in range(0,15) : \n",
    "        binary = decimalToBinary(i,0)[-5:-1]\n",
    "        outputs = ['']\n",
    "        for bit in binary :\n",
    "            if(bit == '1') :\n",
    "                temp1 = [j + '01' for j in outputs]\n",
    "                temp2 = [j + '10' for j in outputs]\n",
    "                outputs = temp1 + temp2\n",
    "            if(bit == '0') :\n",
    "                temp1 = [j + '00' for j in outputs]\n",
    "                temp2 = [j + '11' for j in outputs]\n",
    "                outputs = temp1 + temp2  \n",
    "        \n",
    "        outputs = [binaryToDecimal(h) for h in outputs]\n",
    "        collisions = []\n",
    "        print(outputs)\n",
    "        count = 0 \n",
    "        for item in outputs : \n",
    "            if(item >= minimum and item<=maximum) :\n",
    "                count+=1\n",
    "                collisions.append(item)\n",
    "            \n",
    "#         if(count > 0) :\n",
    "        print(\"Byte  : \" + str(binary))\n",
    "        print(\"Count : \"  + str(count))\n",
    "        print(\"Collisions : \" , collisions)\n",
    "                "
   ]
  },
  {
   "cell_type": "code",
   "execution_count": null,
   "metadata": {},
   "outputs": [],
   "source": []
  },
  {
   "cell_type": "code",
   "execution_count": 27,
   "metadata": {},
   "outputs": [
    {
     "name": "stdout",
     "output_type": "stream",
     "text": [
      "[0, 192, 48, 240, 12, 204, 60, 252, 3, 195, 51, 243, 15, 207, 63, 255]\n",
      "Byte  : 0000\n",
      "Count : 0\n",
      "Collisions []\n",
      "[1, 193, 49, 241, 13, 205, 61, 253, 2, 194, 50, 242, 14, 206, 62, 254]\n",
      "Byte  : 0001\n",
      "Count : 0\n",
      "Collisions []\n",
      "[4, 196, 52, 244, 8, 200, 56, 248, 7, 199, 55, 247, 11, 203, 59, 251]\n",
      "Byte  : 0010\n",
      "Count : 0\n",
      "Collisions []\n",
      "[5, 197, 53, 245, 9, 201, 57, 249, 6, 198, 54, 246, 10, 202, 58, 250]\n",
      "Byte  : 0011\n",
      "Count : 0\n",
      "Collisions []\n",
      "[16, 208, 32, 224, 28, 220, 44, 236, 19, 211, 35, 227, 31, 223, 47, 239]\n",
      "Byte  : 0100\n",
      "Count : 1\n",
      "Collisions [28]\n",
      "[17, 209, 33, 225, 29, 221, 45, 237, 18, 210, 34, 226, 30, 222, 46, 238]\n",
      "Byte  : 0101\n",
      "Count : 1\n",
      "Collisions [29]\n",
      "[20, 212, 36, 228, 24, 216, 40, 232, 23, 215, 39, 231, 27, 219, 43, 235]\n",
      "Byte  : 0110\n",
      "Count : 2\n",
      "Collisions [24, 27]\n",
      "[21, 213, 37, 229, 25, 217, 41, 233, 22, 214, 38, 230, 26, 218, 42, 234]\n",
      "Byte  : 0111\n",
      "Count : 2\n",
      "Collisions [25, 26]\n",
      "[64, 128, 112, 176, 76, 140, 124, 188, 67, 131, 115, 179, 79, 143, 127, 191]\n",
      "Byte  : 1000\n",
      "Count : 0\n",
      "Collisions []\n",
      "[65, 129, 113, 177, 77, 141, 125, 189, 66, 130, 114, 178, 78, 142, 126, 190]\n",
      "Byte  : 1001\n",
      "Count : 0\n",
      "Collisions []\n",
      "[68, 132, 116, 180, 72, 136, 120, 184, 71, 135, 119, 183, 75, 139, 123, 187]\n",
      "Byte  : 1010\n",
      "Count : 0\n",
      "Collisions []\n",
      "[69, 133, 117, 181, 73, 137, 121, 185, 70, 134, 118, 182, 74, 138, 122, 186]\n",
      "Byte  : 1011\n",
      "Count : 0\n",
      "Collisions []\n",
      "[80, 144, 96, 160, 92, 156, 108, 172, 83, 147, 99, 163, 95, 159, 111, 175]\n",
      "Byte  : 1100\n",
      "Count : 0\n",
      "Collisions []\n",
      "[81, 145, 97, 161, 93, 157, 109, 173, 82, 146, 98, 162, 94, 158, 110, 174]\n",
      "Byte  : 1101\n",
      "Count : 0\n",
      "Collisions []\n",
      "[84, 148, 100, 164, 88, 152, 104, 168, 87, 151, 103, 167, 91, 155, 107, 171]\n",
      "Byte  : 1110\n",
      "Count : 0\n",
      "Collisions []\n"
     ]
    }
   ],
   "source": [
    "collision_checker(24,29)"
   ]
  },
  {
   "cell_type": "code",
   "execution_count": null,
   "metadata": {},
   "outputs": [],
   "source": []
  },
  {
   "cell_type": "code",
   "execution_count": 37,
   "metadata": {
    "scrolled": true
   },
   "outputs": [
    {
     "name": "stdout",
     "output_type": "stream",
     "text": [
      "0\n",
      "26.2257\n",
      "26.2257\n",
      "1\n",
      "26.2308\n",
      "26.2308\n",
      "2\n",
      "26.2365\n",
      "26.2365\n",
      "3\n",
      "26.2416\n",
      "26.2416\n",
      "4\n",
      "26.2462\n",
      "26.2462\n",
      "5\n",
      "26.2503\n",
      "26.2503\n",
      "6\n",
      "26.2541\n",
      "26.2541\n",
      "7\n",
      "26.2575\n",
      "26.2575\n",
      "8\n",
      "26.2606\n",
      "26.2606\n",
      "9\n",
      "26.2626\n",
      "26.2626\n",
      "10\n",
      "26.2643\n",
      "26.2643\n",
      "11\n",
      "26.2658\n",
      "26.2658\n",
      "12\n",
      "26.2671\n",
      "26.2671\n",
      "13\n",
      "26.2683\n",
      "26.2683\n",
      "14\n",
      "26.2695\n",
      "26.2695\n",
      "15\n",
      "26.2705\n",
      "26.2705\n",
      "16\n",
      "26.2708\n",
      "26.2708\n",
      "17\n",
      "26.2707\n",
      "26.2707\n",
      "18\n",
      "26.2707\n",
      "26.2707\n",
      "19\n",
      "26.2706\n",
      "26.2706\n"
     ]
    }
   ],
   "source": [
    "# print(compressBinary(decimalToBinary(26.2257,16)))\n",
    "# print(binaryToDecimal(decimalToBinary(26.2257,16),23))\n",
    "# print(\"\\n\\n\")\n",
    "\n",
    "for i in range(0,20):\n",
    "   print(i)\n",
    "   print(binaryToDecimal(decimalToBinary(article_read.temperature[i],16),23))\n",
    "   print(article_read.temperature[i])\n"
   ]
  },
  {
   "cell_type": "code",
   "execution_count": null,
   "metadata": {},
   "outputs": [],
   "source": []
  },
  {
   "cell_type": "code",
   "execution_count": null,
   "metadata": {},
   "outputs": [],
   "source": []
  }
 ],
 "metadata": {
  "kernelspec": {
   "display_name": "Python 3",
   "language": "python",
   "name": "python3"
  },
  "language_info": {
   "codemirror_mode": {
    "name": "ipython",
    "version": 3
   },
   "file_extension": ".py",
   "mimetype": "text/x-python",
   "name": "python",
   "nbconvert_exporter": "python",
   "pygments_lexer": "ipython3",
   "version": "3.7.1"
  }
 },
 "nbformat": 4,
 "nbformat_minor": 2
}
