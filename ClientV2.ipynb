{
 "cells": [
  {
   "cell_type": "markdown",
   "metadata": {},
   "source": [
    "# CLIENT (SENDER)"
   ]
  },
  {
   "cell_type": "code",
   "execution_count": 1,
   "metadata": {},
   "outputs": [],
   "source": [
    "import numpy as np\n",
    "import binascii"
   ]
  },
  {
   "cell_type": "code",
   "execution_count": 2,
   "metadata": {},
   "outputs": [],
   "source": [
    "def decimalToBinary(num , places):\n",
    "    return ('{0:0' +  str(places) + 'b}').format(num)\n",
    "\n",
    "\n",
    "def binaryToDecimal(binary):\n",
    "    return int(binary, 2)\n",
    "        \n",
    "def xorBinary(binary,key = \"00000000\"):\n",
    "    i=0\n",
    "    encBin = \"\"\n",
    "    while(i<8):\n",
    "        if(binary[i] == '0' and key[i] == '0') or (binary[i] == '1' and key[i] == '1'):\n",
    "            encBin+=\"0\"\n",
    "        else:\n",
    "            encBin+=\"1\"\n",
    "        i+=1\n",
    "        \n",
    "#     print(binary , key , encBin)    \n",
    "    return encBin\n",
    "    \n",
    "def compressBinary(binary):\n",
    "    i=0\n",
    "    compressBin = \"\"\n",
    "    while(i<8):\n",
    "        if(i%2 == 0):\n",
    "            if((binary[i] == '0' and binary[i+1] == '0') or (binary[i] == '1' and binary[i+1] == '1')):\n",
    "                compressBin+=\"0\"\n",
    "            else:\n",
    "                compressBin+=\"1\"\n",
    "        i+=1\n",
    "        \n",
    "    return compressBin\n",
    "\n",
    "def to_twoscomplement(bits, value):\n",
    "    if value < 0:\n",
    "        value = ( 1<<bits ) + value\n",
    "    formatstring = '{:0%ib}' % bits\n",
    "    return formatstring.format(value)"
   ]
  },
  {
   "cell_type": "markdown",
   "metadata": {},
   "source": [
    "# Code for importing data"
   ]
  },
  {
   "cell_type": "code",
   "execution_count": 3,
   "metadata": {},
   "outputs": [],
   "source": [
    "import pandas as pd\n",
    "article_read = pd.read_csv('dataset.csv',delimiter = ',')"
   ]
  },
  {
   "cell_type": "code",
   "execution_count": 4,
   "metadata": {},
   "outputs": [],
   "source": [
    "# new_dataset = pd.Series(list(article_read['Temp.'].sample(101 , random_state=10)))\n",
    "new_dataset = article_read['Temp.']\n",
    "\n",
    "# new_dataset"
   ]
  },
  {
   "cell_type": "markdown",
   "metadata": {},
   "source": [
    "# Code for delta coding"
   ]
  },
  {
   "cell_type": "code",
   "execution_count": 7,
   "metadata": {
    "scrolled": true
   },
   "outputs": [
    {
     "data": {
      "text/plain": [
       "count    928991.000000\n",
       "mean         27.283373\n",
       "std           0.904537\n",
       "min          24.434400\n",
       "25%          26.764900\n",
       "50%          27.328400\n",
       "75%          27.868700\n",
       "max          30.325400\n",
       "Name: Temp., dtype: float64"
      ]
     },
     "execution_count": 7,
     "metadata": {},
     "output_type": "execute_result"
    }
   ],
   "source": [
    "new_dataset.describe()"
   ]
  },
  {
   "cell_type": "code",
   "execution_count": 8,
   "metadata": {},
   "outputs": [],
   "source": [
    "int_dataset = new_dataset * 10000"
   ]
  },
  {
   "cell_type": "code",
   "execution_count": 9,
   "metadata": {},
   "outputs": [],
   "source": [
    "int_dataset = int_dataset.astype('int64')"
   ]
  },
  {
   "cell_type": "code",
   "execution_count": 10,
   "metadata": {},
   "outputs": [
    {
     "data": {
      "text/plain": [
       "0    262257\n",
       "1    262308\n",
       "2    262365\n",
       "3    262416\n",
       "4    262462\n",
       "Name: Temp., dtype: int64"
      ]
     },
     "execution_count": 10,
     "metadata": {},
     "output_type": "execute_result"
    }
   ],
   "source": [
    "int_dataset.head()"
   ]
  },
  {
   "cell_type": "code",
   "execution_count": 11,
   "metadata": {},
   "outputs": [],
   "source": [
    "diff_dataset = [int_dataset[0]]\n",
    "for i in range(1 , len(int_dataset)) :\n",
    "        diff_dataset.append(int_dataset[i] - int_dataset[i-1])"
   ]
  },
  {
   "cell_type": "code",
   "execution_count": 12,
   "metadata": {},
   "outputs": [],
   "source": [
    "diff_dataset = pd.Series(diff_dataset)"
   ]
  },
  {
   "cell_type": "code",
   "execution_count": 13,
   "metadata": {},
   "outputs": [
    {
     "data": {
      "text/plain": [
       "0    262257\n",
       "1        51\n",
       "2        57\n",
       "3        51\n",
       "4        46\n",
       "dtype: int64"
      ]
     },
     "execution_count": 13,
     "metadata": {},
     "output_type": "execute_result"
    }
   ],
   "source": [
    "diff_dataset.head()"
   ]
  },
  {
   "cell_type": "code",
   "execution_count": 14,
   "metadata": {},
   "outputs": [],
   "source": [
    "import seaborn as sns\n",
    "%matplotlib inline"
   ]
  },
  {
   "cell_type": "code",
   "execution_count": 15,
   "metadata": {},
   "outputs": [
    {
     "data": {
      "text/plain": [
       "count    928991.000000\n",
       "mean          0.298587\n",
       "std         295.352490\n",
       "min      -41416.000000\n",
       "25%          -7.000000\n",
       "50%           0.000000\n",
       "75%           6.000000\n",
       "max      262257.000000\n",
       "dtype: float64"
      ]
     },
     "execution_count": 15,
     "metadata": {},
     "output_type": "execute_result"
    }
   ],
   "source": [
    "diff_dataset.describe()"
   ]
  },
  {
   "cell_type": "code",
   "execution_count": 16,
   "metadata": {},
   "outputs": [
    {
     "data": {
      "text/plain": [
       "928991"
      ]
     },
     "execution_count": 16,
     "metadata": {},
     "output_type": "execute_result"
    }
   ],
   "source": [
    "len(diff_dataset)"
   ]
  },
  {
   "cell_type": "code",
   "execution_count": 17,
   "metadata": {},
   "outputs": [
    {
     "data": {
      "text/plain": [
       "24877"
      ]
     },
     "execution_count": 17,
     "metadata": {},
     "output_type": "execute_result"
    }
   ],
   "source": [
    "((diff_dataset > 64) | (diff_dataset < -64)).sum() "
   ]
  },
  {
   "cell_type": "code",
   "execution_count": 18,
   "metadata": {},
   "outputs": [
    {
     "data": {
      "text/plain": [
       "2.6778515615328886"
      ]
     },
     "execution_count": 18,
     "metadata": {},
     "output_type": "execute_result"
    }
   ],
   "source": [
    "24877/928991 * 100"
   ]
  },
  {
   "cell_type": "code",
   "execution_count": 19,
   "metadata": {},
   "outputs": [
    {
     "data": {
      "text/plain": [
       "0.4214228124922631"
      ]
     },
     "execution_count": 19,
     "metadata": {},
     "output_type": "execute_result"
    }
   ],
   "source": [
    "(2.6778515615328886 * 24 + (100 - 2.6778515615328886) *  8) / (100 * 20)\n"
   ]
  },
  {
   "cell_type": "code",
   "execution_count": 36,
   "metadata": {},
   "outputs": [],
   "source": [
    "bytesToSend = []\n",
    "for i in diff_dataset :\n",
    "    if(i > 64 or i < -64) :\n",
    "        # Send 3 Bytes\n",
    "        number = decimalToBinary(abs(i) , 20)\n",
    "        if(i < 0):\n",
    "            firstByte = '01' + number[0:6]\n",
    "        else :\n",
    "            firstByte = '00' + number[0:6]\n",
    "        secondByte = '0' + number[6:13]\n",
    "        thirdByte = '0' + number[13:]\n",
    "        bytesToSend.append(firstByte)\n",
    "        bytesToSend.append(secondByte)\n",
    "        bytesToSend.append(thirdByte)\n",
    "    else :\n",
    "        number = decimalToBinary(abs(i) , 6)\n",
    "        if(i < 0):\n",
    "            firstByte = '11' + number\n",
    "        else :\n",
    "            firstByte = '10' + number\n",
    "        bytesToSend.append(firstByte)"
   ]
  },
  {
   "cell_type": "markdown",
   "metadata": {},
   "source": [
    "# Code for Stream"
   ]
  },
  {
   "cell_type": "code",
   "execution_count": 21,
   "metadata": {},
   "outputs": [],
   "source": [
    "import time"
   ]
  },
  {
   "cell_type": "code",
   "execution_count": 74,
   "metadata": {},
   "outputs": [],
   "source": [
    "import socket\n",
    "# host = 'localhost'  # as both code is running on same pc\n",
    "\n",
    "host = \"192.168.43.250\"\n",
    "port = 4000  # socket server port number\n",
    "\n",
    "message_array = []"
   ]
  },
  {
   "cell_type": "code",
   "execution_count": 75,
   "metadata": {},
   "outputs": [],
   "source": [
    "def sendMessage(dataByte , socket):\n",
    "    socket.send(dataByte)"
   ]
  },
  {
   "cell_type": "code",
   "execution_count": 76,
   "metadata": {},
   "outputs": [],
   "source": [
    "def storeMessage(dataByte):\n",
    "    message_array.append(dataByte)"
   ]
  },
  {
   "cell_type": "code",
   "execution_count": 77,
   "metadata": {},
   "outputs": [],
   "source": [
    "def client_program(obv_factor):\n",
    "    client_socket = socket.socket(socket.AF_INET, socket.SOCK_STREAM)  # instantiate\n",
    "    client_socket.connect((host, port))  # connect to the server\n",
    "\n",
    "    count = 0\n",
    "    for i in range(0, int(len(bytesToSend) * obv_factor)):\n",
    "        temp = binaryToDecimal(bytesToSend[i])\n",
    "        final = temp.to_bytes(1, byteorder=\"little\")\n",
    "        #final = binaryToDecimal(bytesToSend[i]).to_bytes(1, byteorder=\"little\")\n",
    "        storeMessage(final)\n",
    "        count += 1\n",
    "\n",
    "    for i in message_array :\n",
    "        sendMessage(i , client_socket)\n",
    "\n",
    "    print(\"Packets Transferred : \" , count)    \n",
    "    client_socket.send(''.encode())\n",
    "    client_socket.close()  # close the connection"
   ]
  },
  {
   "cell_type": "code",
   "execution_count": 80,
   "metadata": {},
   "outputs": [
    {
     "data": {
      "text/plain": [
       "b'\\x10'"
      ]
     },
     "execution_count": 80,
     "metadata": {},
     "output_type": "execute_result"
    }
   ],
   "source": [
    "binaryToDecimal(bytesToSend[0]).to_bytes(1, byteorder=\"little\")"
   ]
  },
  {
   "cell_type": "code",
   "execution_count": null,
   "metadata": {},
   "outputs": [],
   "source": []
  },
  {
   "cell_type": "markdown",
   "metadata": {},
   "source": [
    "# Code for Un-compressed"
   ]
  },
  {
   "cell_type": "code",
   "execution_count": 59,
   "metadata": {},
   "outputs": [],
   "source": [
    "UCbytesToSend = []\n",
    "for i in int_dataset :\n",
    "    number = decimalToBinary(abs(i) , 23)\n",
    "    if(i < 0):\n",
    "        firstByte = '1' + number[0:7]\n",
    "    else :\n",
    "        firstByte = '0' + number[0:7]\n",
    "    secondByte = number[7:15]\n",
    "    thirdByte = number[15:]\n",
    "    UCbytesToSend.append(firstByte)\n",
    "    UCbytesToSend.append(secondByte)\n",
    "    UCbytesToSend.append(thirdByte)"
   ]
  },
  {
   "cell_type": "code",
   "execution_count": 60,
   "metadata": {},
   "outputs": [],
   "source": [
    "def UC_client_program(obv_factor):\n",
    "    client_socket = socket.socket(socket.AF_INET, socket.SOCK_STREAM)  # instantiate\n",
    "    client_socket.connect((host, port))  # connect to the server\n",
    "\n",
    "    count = 0\n",
    "    for i in range(0, int(len(UCbytesToSend) * obv_factor)):\n",
    "        final = binaryToDecimal(UCbytesToSend[i]).to_bytes(1, byteorder=\"little\")\n",
    "        storeMessage(final)\n",
    "        count += 1\n",
    "\n",
    "    for i in message_array :\n",
    "        sendMessage(i , client_socket)\n",
    "\n",
    "    print(\"Packets Transferred : \" , count)    \n",
    "    client_socket.send(''.encode())\n",
    "    client_socket.close()  # close the connection"
   ]
  }
 ],
 "metadata": {
  "kernelspec": {
   "display_name": "Python 3",
   "language": "python",
   "name": "python3"
  },
  "language_info": {
   "codemirror_mode": {
    "name": "ipython",
    "version": 3
   },
   "file_extension": ".py",
   "mimetype": "text/x-python",
   "name": "python",
   "nbconvert_exporter": "python",
   "pygments_lexer": "ipython3",
   "version": "3.7.3"
  }
 },
 "nbformat": 4,
 "nbformat_minor": 2
}
