{
 "cells": [
  {
   "cell_type": "code",
   "execution_count": 1,
   "metadata": {},
   "outputs": [],
   "source": [
    "import numpy as np\n",
    "import binascii"
   ]
  },
  {
   "cell_type": "code",
   "execution_count": 2,
   "metadata": {},
   "outputs": [],
   "source": [
    "def text_to_bits(text, encoding='utf-8', errors='surrogatepass'):\n",
    "    bits = bin(int(binascii.hexlify(text.encode(encoding, errors)), 16))[2:]\n",
    "    return bits.zfill(8 * ((len(bits) + 7) // 8))\n",
    "\n",
    "def text_from_bits(bits, encoding='utf-8', errors='surrogatepass'):\n",
    "    n = int(bits, 2)\n",
    "    return int2bytes(n).decode(encoding, errors)\n",
    "\n",
    "def int2bytes(i):\n",
    "    hex_string = '%x' % i\n",
    "    n = len(hex_string)\n",
    "    return binascii.unhexlify(hex_string.zfill(n + (n & 1)))\n",
    "\n",
    "def string2bits(s=''):\n",
    "    return [bin(ord(x))[2:].zfill(8) for x in s]\n",
    "\n",
    "def bits2string(b=None):\n",
    "    return ''.join([chr(int(x, 2)) for x in b])"
   ]
  },
  {
   "cell_type": "code",
   "execution_count": 3,
   "metadata": {},
   "outputs": [],
   "source": [
    "def decimalToBinary(num , places):\n",
    "    return ('{0:0' +  str(places) + 'b}').format(num)\n",
    "\n",
    "\n",
    "def binaryToDecimal(binary):\n",
    "    return int(binary, 2)\n",
    "        \n",
    "def xorBinary(binary,key = \"00000000\"):\n",
    "    i=0\n",
    "    encBin = \"\"\n",
    "    while(i<8):\n",
    "        if(binary[i] == '0' and key[i] == '0') or (binary[i] == '1' and key[i] == '1'):\n",
    "            encBin+=\"0\"\n",
    "        else:\n",
    "            encBin+=\"1\"\n",
    "        i+=1\n",
    "        \n",
    "#     print(binary , key , encBin)    \n",
    "    return encBin\n",
    "    \n",
    "def compressBinary(binary):\n",
    "    i=0\n",
    "    compressBin = \"\"\n",
    "    while(i<8):\n",
    "        if(i%2 == 0):\n",
    "            if((binary[i] == '0' and binary[i+1] == '0') or (binary[i] == '1' and binary[i+1] == '1')):\n",
    "                compressBin+=\"0\"\n",
    "            else:\n",
    "                compressBin+=\"1\"\n",
    "        i+=1\n",
    "        \n",
    "    return compressBin\n",
    "\n",
    "def to_twoscomplement(bits, value):\n",
    "    if value < 0:\n",
    "        value = ( 1<<bits ) + value\n",
    "    formatstring = '{:0%ib}' % bits\n",
    "    return formatstring.format(value)"
   ]
  },
  {
   "cell_type": "markdown",
   "metadata": {},
   "source": [
    "# Code for decoding"
   ]
  },
  {
   "cell_type": "code",
   "execution_count": 4,
   "metadata": {},
   "outputs": [],
   "source": [
    "import sys, traceback\n",
    "import time , socket\n",
    "import struct"
   ]
  },
  {
   "cell_type": "code",
   "execution_count": 5,
   "metadata": {},
   "outputs": [],
   "source": [
    "def server_program():\n",
    "    # get the hostname\n",
    "    host = 'localhost'\n",
    "    port = 3000  # initiate port no above 1024\n",
    "    count = 0\n",
    "    current = 0\n",
    "    currentByte = ''\n",
    "    last = 0\n",
    "    org_data = []\n",
    "    start_time = None\n",
    "    end_time = None\n",
    "\n",
    "    \n",
    "    server_socket = socket.socket(socket.AF_INET, socket.SOCK_STREAM)  # get instance\n",
    "    server_socket.bind((host, port))  # bind host address and port together\n",
    "    server_socket.listen(1)\n",
    "\n",
    "    try :\n",
    "        connection,client_address = server_socket.accept()\n",
    "        while True:\n",
    "            data = connection.recv(1)\n",
    "            if not data:\n",
    "                end_time = int(time.time() * 1000)\n",
    "                print(\"Time in MS :\" , end_time - start_time)\n",
    "                print(\"Packets Transfered :\" , count)\n",
    "                connection.close()\n",
    "                server_socket.close()\n",
    "                return count , (end_time - start_time)\n",
    "            \n",
    "            data = decimalToBinary(int.from_bytes(data, byteorder='little'), 8)\n",
    "            if data[0] == '0':\n",
    "                if last == 0:\n",
    "                    start_time = int(time.time() * 1000)\n",
    "                count+=1\n",
    "                current+=1\n",
    "                currentByte+=data[1:]\n",
    "                if current == 3:\n",
    "                    dataPoint = int(currentByte[1:],2)\n",
    "                    if currentByte[0] == '1':\n",
    "                        dataPoint *= -1\n",
    "                    org_data.append(dataPoint)\n",
    "                    last=dataPoint\n",
    "                    current = 0\n",
    "                    currentByte = ''\n",
    "                    \n",
    "            else:\n",
    "                count+=1\n",
    "                dataPoint = int(data[2:],2)\n",
    "                if data[1]=='1':\n",
    "                    dataPoint*=-1\n",
    "                dataPoint+=last\n",
    "                org_data.append(dataPoint)\n",
    "                last = dataPoint\n",
    "        \n",
    "    except Exception:\n",
    "        print(\"Some Error Occured\")\n",
    "        traceback.print_exc()\n",
    "        connection.close()\n",
    "        server_socket.close()"
   ]
  },
  {
   "cell_type": "code",
   "execution_count": 20,
   "metadata": {
    "scrolled": false
   },
   "outputs": [
    {
     "name": "stdout",
     "output_type": "stream",
     "text": [
      "Time in MS : 2004\n",
      "Packets Transfered : 980117\n"
     ]
    },
    {
     "data": {
      "text/plain": [
       "(980117, 2004)"
      ]
     },
     "execution_count": 20,
     "metadata": {},
     "output_type": "execute_result"
    }
   ],
   "source": [
    "server_program()"
   ]
  },
  {
   "cell_type": "code",
   "execution_count": 15,
   "metadata": {},
   "outputs": [
    {
     "name": "stdout",
     "output_type": "stream",
     "text": [
      "Time in MS : 3053\n",
      "Packets Transfered : 980117\n",
      "Time in MS : 2129\n",
      "Packets Transfered : 980117\n",
      "Time in MS : 2052\n",
      "Packets Transfered : 980117\n",
      "Time in MS : 1165\n",
      "Packets Transfered : 490058\n",
      "Time in MS : 1110\n",
      "Packets Transfered : 490058\n",
      "Time in MS : 1367\n",
      "Packets Transfered : 490058\n",
      "Time in MS : 860\n",
      "Packets Transfered : 245029\n",
      "Time in MS : 808\n",
      "Packets Transfered : 245029\n",
      "Time in MS : 1496\n",
      "Packets Transfered : 245029\n",
      "Time in MS : 1458\n",
      "Packets Transfered : 122514\n",
      "Time in MS : 320\n",
      "Packets Transfered : 122514\n",
      "Time in MS : 347\n",
      "Packets Transfered : 122514\n",
      "Time in MS : 944\n",
      "Packets Transfered : 61257\n",
      "Time in MS : 234\n",
      "Packets Transfered : 61257\n",
      "Time in MS : 351\n",
      "Packets Transfered : 61257\n"
     ]
    }
   ],
   "source": [
    "di = {}\n",
    "\n",
    "for i in range(15):\n",
    "    packets, ttime = server_program()\n",
    "    if(di.get(packets)) :\n",
    "        di[packets].append(ttime)\n",
    "    else :\n",
    "        di[packets] = [ttime]\n",
    "    time.sleep(3)"
   ]
  },
  {
   "cell_type": "code",
   "execution_count": null,
   "metadata": {},
   "outputs": [],
   "source": []
  },
  {
   "cell_type": "markdown",
   "metadata": {},
   "source": [
    "# Code for Un-compressed"
   ]
  },
  {
   "cell_type": "code",
   "execution_count": 8,
   "metadata": {},
   "outputs": [],
   "source": [
    "def UC_server_program():\n",
    "    # get the hostname\n",
    "    host = 'localhost'\n",
    "    port = 6000  # initiate port no above 1024\n",
    "    count = 0\n",
    "    start = 0\n",
    "    data_byte = ''\n",
    "    org_data = []\n",
    "    start_time = None\n",
    "    end_time = None\n",
    "\n",
    "    \n",
    "    server_socket = socket.socket(socket.AF_INET, socket.SOCK_STREAM)  # get instance\n",
    "    server_socket.bind((host, port))  # bind host address and port together\n",
    "    server_socket.listen(1)\n",
    "\n",
    "    try :\n",
    "        connection,client_address = server_socket.accept()\n",
    "        while True:\n",
    "            data = connection.recv(1)\n",
    "            if not data:\n",
    "                end_time = int(time.time() * 1000)\n",
    "                print(\"Time in MS :\" , end_time - start_time)\n",
    "                print(\"Packet Transfered :\" , count)\n",
    "                connection.close()\n",
    "                server_socket.close()\n",
    "                return count , (end_time - start_time)\n",
    "            \n",
    "            else:\n",
    "                if start == 0:\n",
    "                    start_time = int(time.time() * 1000)\n",
    "                    start = 1\n",
    "                count+=1\n",
    "                data = int.from_bytes(data, byteorder = 'little')\n",
    "                data_byte+= decimalToBinary(data,8)\n",
    "                if count%3 == 0:\n",
    "                    data = binaryToDecimal(data_byte)\n",
    "                    org_data.append(data)\n",
    "                    data_byte = ''\n",
    "\n",
    "    except Exception:\n",
    "        print(\"Some Error Occured\")\n",
    "        traceback.print_exc()\n",
    "        connection.close()\n",
    "        server_socket.close()"
   ]
  },
  {
   "cell_type": "code",
   "execution_count": 9,
   "metadata": {},
   "outputs": [
    {
     "name": "stdout",
     "output_type": "stream",
     "text": [
      "Time in MS : 5282\n",
      "Packet Transfered : 2786973\n"
     ]
    },
    {
     "data": {
      "text/plain": [
       "(2786973, 5282)"
      ]
     },
     "execution_count": 9,
     "metadata": {},
     "output_type": "execute_result"
    }
   ],
   "source": [
    "UC_server_program()"
   ]
  },
  {
   "cell_type": "code",
   "execution_count": 10,
   "metadata": {},
   "outputs": [
    {
     "name": "stdout",
     "output_type": "stream",
     "text": [
      "Time in MS : 1155\n",
      "Packet Transfered : 928991\n",
      "Time in MS : 1087\n",
      "Packet Transfered : 928991\n",
      "Time in MS : 1111\n",
      "Packet Transfered : 928991\n",
      "Time in MS : 555\n",
      "Packet Transfered : 464495\n",
      "Time in MS : 551\n",
      "Packet Transfered : 464495\n",
      "Time in MS : 545\n",
      "Packet Transfered : 464495\n",
      "Time in MS : 279\n",
      "Packet Transfered : 232247\n",
      "Time in MS : 284\n",
      "Packet Transfered : 232247\n",
      "Time in MS : 279\n",
      "Packet Transfered : 232247\n",
      "Time in MS : 166\n",
      "Packet Transfered : 116123\n",
      "Time in MS : 146\n",
      "Packet Transfered : 116123\n",
      "Time in MS : 145\n",
      "Packet Transfered : 116123\n",
      "Time in MS : 81\n",
      "Packet Transfered : 58061\n",
      "Time in MS : 80\n",
      "Packet Transfered : 58061\n",
      "Time in MS : 81\n",
      "Packet Transfered : 58061\n"
     ]
    }
   ],
   "source": [
    "di2 = {}\n",
    "\n",
    "for i in range(15):\n",
    "    packets, ttime = UC_server_program()\n",
    "    if(di2.get(packets)) :\n",
    "        di2[packets].append(ttime)\n",
    "    else :\n",
    "        di2[packets] = [ttime]\n",
    "    time.sleep(3)"
   ]
  }
 ],
 "metadata": {
  "kernelspec": {
   "display_name": "Python 3",
   "language": "python",
   "name": "python3"
  },
  "language_info": {
   "codemirror_mode": {
    "name": "ipython",
    "version": 3
   },
   "file_extension": ".py",
   "mimetype": "text/x-python",
   "name": "python",
   "nbconvert_exporter": "python",
   "pygments_lexer": "ipython3",
   "version": "3.6.7"
  }
 },
 "nbformat": 4,
 "nbformat_minor": 2
}
