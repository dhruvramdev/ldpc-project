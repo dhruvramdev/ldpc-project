{
 "cells": [
  {
   "cell_type": "markdown",
   "metadata": {},
   "source": [
    "# Graph 2 Laptop over WiFi"
   ]
  },
  {
   "cell_type": "code",
   "execution_count": 6,
   "metadata": {},
   "outputs": [],
   "source": [
    "raw_uc  = '''{\n",
    "  \"928991\": [\n",
    "    1895,\n",
    "    1936,\n",
    "    2077,\n",
    "    1952,\n",
    "    1890,\n",
    "    2233,\n",
    "    2202,\n",
    "    2483,\n",
    "    1983,\n",
    "    1858,\n",
    "    2111,\n",
    "    2108,\n",
    "    2093,\n",
    "    1905,\n",
    "    2452,\n",
    "    2314,\n",
    "    2124,\n",
    "    2681,\n",
    "    2342,\n",
    "    2139,\n",
    "    2132,\n",
    "    2718,\n",
    "    2030,\n",
    "    1907,\n",
    "    2109\n",
    "  ],\n",
    "  \"464495\": [\n",
    "    984,\n",
    "    984,\n",
    "    969,\n",
    "    1077,\n",
    "    1109,\n",
    "    1407,\n",
    "    1000,\n",
    "    1078,\n",
    "    1058,\n",
    "    984,\n",
    "    1111,\n",
    "    1171,\n",
    "    984,\n",
    "    1031,\n",
    "    1015,\n",
    "    999,\n",
    "    1031,\n",
    "    1031,\n",
    "    1233,\n",
    "    1546,\n",
    "    1265,\n",
    "    1140,\n",
    "    1000,\n",
    "    1202,\n",
    "    1109\n",
    "  ],\n",
    "  \"232247\": [\n",
    "    532,\n",
    "    540,\n",
    "    529,\n",
    "    719,\n",
    "    625,\n",
    "    562,\n",
    "    563,\n",
    "    593,\n",
    "    610,\n",
    "    624,\n",
    "    609,\n",
    "    624,\n",
    "    609,\n",
    "    624,\n",
    "    604,\n",
    "    566,\n",
    "    609,\n",
    "    546,\n",
    "    609,\n",
    "    656,\n",
    "    625,\n",
    "    640,\n",
    "    639,\n",
    "    531,\n",
    "    563\n",
    "  ],\n",
    "  \"116123\": [\n",
    "    249,\n",
    "    296,\n",
    "    311,\n",
    "    296,\n",
    "    296,\n",
    "    312,\n",
    "    281,\n",
    "    280,\n",
    "    250,\n",
    "    249,\n",
    "    265,\n",
    "    312,\n",
    "    265,\n",
    "    265,\n",
    "    249,\n",
    "    249,\n",
    "    311,\n",
    "    249,\n",
    "    218,\n",
    "    250,\n",
    "    233,\n",
    "    281,\n",
    "    265,\n",
    "    281,\n",
    "    234\n",
    "  ],\n",
    "  \"58061\": [\n",
    "    172,\n",
    "    140,\n",
    "    140,\n",
    "    140,\n",
    "    108,\n",
    "    124,\n",
    "    124,\n",
    "    116,\n",
    "    125,\n",
    "    124,\n",
    "    140,\n",
    "    108,\n",
    "    109,\n",
    "    125,\n",
    "    94,\n",
    "    93,\n",
    "    140,\n",
    "    124,\n",
    "    124,\n",
    "    124,\n",
    "    125,\n",
    "    140,\n",
    "    156,\n",
    "    124,\n",
    "    125\n",
    "  ]\n",
    "}'''"
   ]
  },
  {
   "cell_type": "code",
   "execution_count": 59,
   "metadata": {},
   "outputs": [],
   "source": [
    "import json\n",
    "import numpy as np\n",
    "import pandas as pd\n",
    "import seaborn as sns\n",
    "%matplotlib inline\n",
    "sns.set()"
   ]
  },
  {
   "cell_type": "code",
   "execution_count": 8,
   "metadata": {},
   "outputs": [],
   "source": [
    "raw_uc  = json.loads(raw_uc)"
   ]
  },
  {
   "cell_type": "code",
   "execution_count": 9,
   "metadata": {},
   "outputs": [
    {
     "name": "stdout",
     "output_type": "stream",
     "text": [
      "{'928991': [1895, 1936, 2077, 1952, 1890, 2233, 2202, 2483, 1983, 1858, 2111, 2108, 2093, 1905, 2452, 2314, 2124, 2681, 2342, 2139, 2132, 2718, 2030, 1907, 2109], '464495': [984, 984, 969, 1077, 1109, 1407, 1000, 1078, 1058, 984, 1111, 1171, 984, 1031, 1015, 999, 1031, 1031, 1233, 1546, 1265, 1140, 1000, 1202, 1109], '232247': [532, 540, 529, 719, 625, 562, 563, 593, 610, 624, 609, 624, 609, 624, 604, 566, 609, 546, 609, 656, 625, 640, 639, 531, 563], '116123': [249, 296, 311, 296, 296, 312, 281, 280, 250, 249, 265, 312, 265, 265, 249, 249, 311, 249, 218, 250, 233, 281, 265, 281, 234], '58061': [172, 140, 140, 140, 108, 124, 124, 116, 125, 124, 140, 108, 109, 125, 94, 93, 140, 124, 124, 124, 125, 140, 156, 124, 125]}\n"
     ]
    }
   ],
   "source": [
    "print(raw_uc)"
   ]
  },
  {
   "cell_type": "code",
   "execution_count": 28,
   "metadata": {},
   "outputs": [],
   "source": [
    "ucompressed = []\n",
    "for i in raw_uc :\n",
    "    ucompressed.append(np.mean(raw_uc[i]))\n",
    "    \n",
    "    "
   ]
  },
  {
   "cell_type": "code",
   "execution_count": 29,
   "metadata": {},
   "outputs": [
    {
     "name": "stdout",
     "output_type": "stream",
     "text": [
      "[2146.96, 1100.72, 598.04, 269.88, 126.56]\n"
     ]
    }
   ],
   "source": [
    "print(ucompressed)"
   ]
  },
  {
   "cell_type": "code",
   "execution_count": 30,
   "metadata": {},
   "outputs": [],
   "source": [
    "di_uc = {\n",
    "    \"factor\" : [1 , 0.5, 0.25, 0.125, 0.0625] ,\n",
    "    \"time\" : ucompressed\n",
    "}"
   ]
  },
  {
   "cell_type": "code",
   "execution_count": 16,
   "metadata": {},
   "outputs": [],
   "source": [
    "raw_c = '''{\n",
    "    \"464496\": [\n",
    "        1228,\n",
    "        999,\n",
    "        1062,\n",
    "        1218,\n",
    "        1031,\n",
    "        1156,\n",
    "        1282,\n",
    "        1015,\n",
    "        1021,\n",
    "        1311,\n",
    "        1296,\n",
    "        1077,\n",
    "        1015,\n",
    "        984,\n",
    "        986,\n",
    "        1140,\n",
    "        1124,\n",
    "        1172,\n",
    "        984,\n",
    "        1036,\n",
    "        1093,\n",
    "        1068,\n",
    "        960,\n",
    "        1046,\n",
    "        1140\n",
    "    ],\n",
    "    \"232248\": [\n",
    "        577,\n",
    "        531,\n",
    "        625,\n",
    "        561,\n",
    "        609,\n",
    "        546,\n",
    "        499,\n",
    "        483,\n",
    "        531,\n",
    "        484,\n",
    "        500,\n",
    "        546,\n",
    "        562,\n",
    "        484,\n",
    "        484,\n",
    "        486,\n",
    "        468,\n",
    "        515,\n",
    "        484,\n",
    "        484,\n",
    "        452,\n",
    "        514,\n",
    "        578,\n",
    "        571,\n",
    "        515\n",
    "    ],\n",
    "    \"116124\": [\n",
    "        265,\n",
    "        344,\n",
    "        358,\n",
    "        265,\n",
    "        281,\n",
    "        327,\n",
    "        265,\n",
    "        265,\n",
    "        289,\n",
    "        249,\n",
    "        468,\n",
    "        312,\n",
    "        312,\n",
    "        265,\n",
    "        280,\n",
    "        233,\n",
    "        266,\n",
    "        249,\n",
    "        265,\n",
    "        312,\n",
    "        250,\n",
    "        296,\n",
    "        249,\n",
    "        249,\n",
    "        233\n",
    "    ],\n",
    "    \"58062\": [\n",
    "        124,\n",
    "        140,\n",
    "        124,\n",
    "        124,\n",
    "        125,\n",
    "        125,\n",
    "        109,\n",
    "        140,\n",
    "        125,\n",
    "        110,\n",
    "        139,\n",
    "        140,\n",
    "        140,\n",
    "        109,\n",
    "        171,\n",
    "        156,\n",
    "        124,\n",
    "        140,\n",
    "        110,\n",
    "        125,\n",
    "        125,\n",
    "        109,\n",
    "        140,\n",
    "        125,\n",
    "        140\n",
    "    ],\n",
    "    \"29031\": [\n",
    "        77,\n",
    "        78,\n",
    "        62,\n",
    "        62,\n",
    "        94,\n",
    "        77,\n",
    "        68,\n",
    "        78,\n",
    "        62,\n",
    "        78,\n",
    "        70,\n",
    "        93,\n",
    "        84,\n",
    "        89,\n",
    "        62,\n",
    "        62,\n",
    "        77,\n",
    "        129,\n",
    "        63,\n",
    "        74,\n",
    "        68,\n",
    "        61,\n",
    "        62,\n",
    "        71,\n",
    "        62\n",
    "    ]\n",
    "}'''"
   ]
  },
  {
   "cell_type": "code",
   "execution_count": 17,
   "metadata": {},
   "outputs": [],
   "source": [
    "raw_c = json.loads(raw_c)"
   ]
  },
  {
   "cell_type": "code",
   "execution_count": 18,
   "metadata": {},
   "outputs": [
    {
     "name": "stdout",
     "output_type": "stream",
     "text": [
      "{'464496': [1228, 999, 1062, 1218, 1031, 1156, 1282, 1015, 1021, 1311, 1296, 1077, 1015, 984, 986, 1140, 1124, 1172, 984, 1036, 1093, 1068, 960, 1046, 1140], '232248': [577, 531, 625, 561, 609, 546, 499, 483, 531, 484, 500, 546, 562, 484, 484, 486, 468, 515, 484, 484, 452, 514, 578, 571, 515], '116124': [265, 344, 358, 265, 281, 327, 265, 265, 289, 249, 468, 312, 312, 265, 280, 233, 266, 249, 265, 312, 250, 296, 249, 249, 233], '58062': [124, 140, 124, 124, 125, 125, 109, 140, 125, 110, 139, 140, 140, 109, 171, 156, 124, 140, 110, 125, 125, 109, 140, 125, 140], '29031': [77, 78, 62, 62, 94, 77, 68, 78, 62, 78, 70, 93, 84, 89, 62, 62, 77, 129, 63, 74, 68, 61, 62, 71, 62]}\n"
     ]
    }
   ],
   "source": [
    "print(raw_c)"
   ]
  },
  {
   "cell_type": "code",
   "execution_count": 19,
   "metadata": {},
   "outputs": [],
   "source": [
    "array = []\n",
    "for i in raw_c :\n",
    "    array.append(np.mean(raw_c[i]))"
   ]
  },
  {
   "cell_type": "code",
   "execution_count": 20,
   "metadata": {},
   "outputs": [
    {
     "name": "stdout",
     "output_type": "stream",
     "text": [
      "[1097.76, 523.56, 285.88, 129.56, 74.52]\n"
     ]
    }
   ],
   "source": [
    "print(array)"
   ]
  },
  {
   "cell_type": "code",
   "execution_count": 34,
   "metadata": {},
   "outputs": [],
   "source": [
    "df = {\n",
    "    \"factor\" : [1 , 0.5, 0.25, 0.125, 0.0625] ,\n",
    "    \"time_c\" : array ,\n",
    "    \"time_uc\" : ucompressed\n",
    "}"
   ]
  },
  {
   "cell_type": "code",
   "execution_count": 35,
   "metadata": {},
   "outputs": [],
   "source": [
    "df = pd.DataFrame(df)"
   ]
  },
  {
   "cell_type": "code",
   "execution_count": 41,
   "metadata": {},
   "outputs": [],
   "source": [
    "df = df.set_index('factor')"
   ]
  },
  {
   "cell_type": "code",
   "execution_count": 71,
   "metadata": {},
   "outputs": [
    {
     "data": {
      "image/png": "[encoded data removed]",
      "text/plain": [
       "<Figure size 1080x576 with 1 Axes>"
      ]
     },
     "metadata": {},
     "output_type": "display_data"
    }
   ],
   "source": [
    "from matplotlib import pyplot as plt \n",
    "plt.figure(figsize=(15,8))\n",
    "\n",
    "paper_rc = {'lines.linewidth': 2, 'lines.markersize': 10}                  \n",
    "sns.set_context(\"paper\", rc = paper_rc) \n",
    "sns.set(font_scale=1.4)\n",
    "\n",
    "g1 = sns.lineplot(data=df[['time_c' , 'time_uc']],  markers=True, dashes=False)\n",
    "g1.set(xlabel='% of DataSet Sent', ylabel='Transmission Time (in ms)')\n",
    "g1.set(title=\"Transmission Time vs Data Sent\")\n",
    "\n",
    "leg = g1.axes.get_legend()\n",
    "new_labels = ['After Compression', 'Before Compression']\n",
    "for t, l in zip(leg.texts, new_labels): t.set_text(l)"
   ]
  },
  {
   "cell_type": "code",
   "execution_count": 44,
   "metadata": {},
   "outputs": [],
   "source": [
    "df[\"reduction\"] = 100 * (df[\"time_uc\"] - df[\"time_c\"]) / df[\"time_uc\"]"
   ]
  },
  {
   "cell_type": "code",
   "execution_count": 45,
   "metadata": {},
   "outputs": [
    {
     "data": {
      "text/html": [
       "<div>\n",
       "<style scoped>\n",
       "    .dataframe tbody tr th:only-of-type {\n",
       "        vertical-align: middle;\n",
       "    }\n",
       "\n",
       "    .dataframe tbody tr th {\n",
       "        vertical-align: top;\n",
       "    }\n",
       "\n",
       "    .dataframe thead th {\n",
       "        text-align: right;\n",
       "    }\n",
       "</style>\n",
       "<table border=\"1\" class=\"dataframe\">\n",
       "  <thead>\n",
       "    <tr style=\"text-align: right;\">\n",
       "      <th></th>\n",
       "      <th>time_c</th>\n",
       "      <th>time_uc</th>\n",
       "      <th>reduction</th>\n",
       "    </tr>\n",
       "    <tr>\n",
       "      <th>factor</th>\n",
       "      <th></th>\n",
       "      <th></th>\n",
       "      <th></th>\n",
       "    </tr>\n",
       "  </thead>\n",
       "  <tbody>\n",
       "    <tr>\n",
       "      <th>1.0000</th>\n",
       "      <td>1097.76</td>\n",
       "      <td>2146.96</td>\n",
       "      <td>48.869099</td>\n",
       "    </tr>\n",
       "    <tr>\n",
       "      <th>0.5000</th>\n",
       "      <td>523.56</td>\n",
       "      <td>1100.72</td>\n",
       "      <td>52.434770</td>\n",
       "    </tr>\n",
       "    <tr>\n",
       "      <th>0.2500</th>\n",
       "      <td>285.88</td>\n",
       "      <td>598.04</td>\n",
       "      <td>52.197177</td>\n",
       "    </tr>\n",
       "    <tr>\n",
       "      <th>0.1250</th>\n",
       "      <td>129.56</td>\n",
       "      <td>269.88</td>\n",
       "      <td>51.993479</td>\n",
       "    </tr>\n",
       "    <tr>\n",
       "      <th>0.0625</th>\n",
       "      <td>74.52</td>\n",
       "      <td>126.56</td>\n",
       "      <td>41.118837</td>\n",
       "    </tr>\n",
       "  </tbody>\n",
       "</table>\n",
       "</div>"
      ],
      "text/plain": [
       "         time_c  time_uc  reduction\n",
       "factor                             \n",
       "1.0000  1097.76  2146.96  48.869099\n",
       "0.5000   523.56  1100.72  52.434770\n",
       "0.2500   285.88   598.04  52.197177\n",
       "0.1250   129.56   269.88  51.993479\n",
       "0.0625    74.52   126.56  41.118837"
      ]
     },
     "execution_count": 45,
     "metadata": {},
     "output_type": "execute_result"
    }
   ],
   "source": [
    "df"
   ]
  },
  {
   "cell_type": "code",
   "execution_count": 54,
   "metadata": {},
   "outputs": [
    {
     "data": {
      "text/plain": [
       "[(40, 60)]"
      ]
     },
     "execution_count": 54,
     "metadata": {},
     "output_type": "execute_result"
    },
    {
     "data": {
      "image/png": "[encoded data removed]",
      "text/plain": [
       "<Figure size 432x288 with 1 Axes>"
      ]
     },
     "metadata": {
      "needs_background": "light"
     },
     "output_type": "display_data"
    }
   ],
   "source": [
    "graph = sns.lineplot(data = df[\"reduction\"] , color=\"coral\", label=\"line\" , markers=True, dashes=False)\n",
    "graph.set(ylim=(40, 60))\n"
   ]
  },
  {
   "cell_type": "code",
   "execution_count": null,
   "metadata": {},
   "outputs": [],
   "source": []
  }
 ],
 "metadata": {
  "kernelspec": {
   "display_name": "Python 3",
   "language": "python",
   "name": "python3"
  },
  "language_info": {
   "codemirror_mode": {
    "name": "ipython",
    "version": 3
   },
   "file_extension": ".py",
   "mimetype": "text/x-python",
   "name": "python",
   "nbconvert_exporter": "python",
   "pygments_lexer": "ipython3",
   "version": "3.7.1"
  }
 },
 "nbformat": 4,
 "nbformat_minor": 2
}
